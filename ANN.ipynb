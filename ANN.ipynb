{
 "cells": [
  {
   "cell_type": "markdown",
   "metadata": {},
   "source": [
    "<h1><center>Artificial Neural Networks</h1>"
   ]
  },
  {
   "cell_type": "markdown",
   "metadata": {},
   "source": [
    "## Imports"
   ]
  },
  {
   "cell_type": "code",
   "execution_count": 1,
   "metadata": {},
   "outputs": [],
   "source": [
    "import optuna\n",
    "from sklearn.preprocessing import LabelEncoder, StandardScaler\n",
    "from sklearn.model_selection import train_test_split\n",
    "from tensorflow.keras.models import Sequential\n",
    "from tensorflow.keras.layers import Dense\n",
    "from tensorflow.keras.callbacks import EarlyStopping\n",
    "import tensorflow as tf\n",
    "import numpy as np\n",
    "from sklearn.metrics import precision_score, recall_score, confusion_matrix, f1_score, accuracy_score, roc_auc_score\n",
    "import pandas as pd\n",
    "\n",
    "import matplotlib.pyplot as plt\n",
    "import seaborn as sns\n",
    "from sklearn.metrics import confusion_matrix\n",
    "from sklearn.metrics import classification_report\n",
    "from keras.utils import plot_model"
   ]
  },
  {
   "cell_type": "code",
   "execution_count": 2,
   "metadata": {},
   "outputs": [],
   "source": [
    "df = pd.read_csv(\"./dataset/heart.csv\")"
   ]
  },
  {
   "cell_type": "markdown",
   "metadata": {},
   "source": [
    "## Preprocessing"
   ]
  },
  {
   "cell_type": "code",
   "execution_count": 3,
   "metadata": {},
   "outputs": [],
   "source": [
    "# Encode categorical features\n",
    "label_encoder = LabelEncoder()\n",
    "categorical_cols = ['Sex', 'ChestPainType', 'FastingBS', 'RestingECG', 'ExerciseAngina', 'ST_Slope']\n",
    "for col in categorical_cols:\n",
    "    df[col] = label_encoder.fit_transform(df[col])\n"
   ]
  },
  {
   "cell_type": "code",
   "execution_count": 4,
   "metadata": {},
   "outputs": [],
   "source": [
    "# Split the data into features (X) and target variable (y)\n",
    "X = df.drop('HeartDisease', axis=1)\n",
    "y = df['HeartDisease']\n"
   ]
  },
  {
   "cell_type": "code",
   "execution_count": 5,
   "metadata": {},
   "outputs": [],
   "source": [
    "# Standardize features\n",
    "scaler = StandardScaler()\n",
    "X = scaler.fit_transform(X)\n",
    "\n",
    "# Split data into train, validation, and test sets\n",
    "X_train, X_val_test, y_train, y_val_test = train_test_split(X, y, test_size=0.3, random_state=42)\n",
    "X_val, X_test, y_val, y_test = train_test_split(X_val_test, y_val_test, test_size=0.5, random_state=42)\n"
   ]
  },
  {
   "cell_type": "markdown",
   "metadata": {},
   "source": [
    "# hyperparameter tuning function"
   ]
  },
  {
   "cell_type": "code",
   "execution_count": 6,
   "metadata": {},
   "outputs": [],
   "source": [
    "def objective(trial):\n",
    "    # Define search space for hyperparameters\n",
    "    num_layers = trial.suggest_int('num_layers', 2, 4)\n",
    "    num_units = trial.suggest_int('num_units', 16, 128)\n",
    "    learning_rate = trial.suggest_loguniform('learning_rate', 1e-3, 7e-3)\n",
    "    \n",
    "    # Build ANN model\n",
    "    model = Sequential()\n",
    "    model.add(Dense(num_units, activation='relu', input_shape=(X_train.shape[1],)))\n",
    "    for _ in range(num_layers - 1):\n",
    "        model.add(Dense(num_units, activation='relu'))\n",
    "    model.add(Dense(1, activation='sigmoid'))  # 1 output neuron for binary classification\n",
    "    \n",
    "    # Compile model\n",
    "    model.compile(optimizer=tf.keras.optimizers.Adam(learning_rate=learning_rate),\n",
    "                  loss='binary_crossentropy',\n",
    "                  metrics=['accuracy'])\n",
    "    \n",
    "    # Define EarlyStopping callback\n",
    "    early_stopping = EarlyStopping(monitor='val_loss', patience=5, restore_best_weights=True)\n",
    "    \n",
    "    # Train model with early stopping\n",
    "    model.fit(X_train, y_train, epochs=50, batch_size=32, verbose=0, validation_data=(X_val, y_val), callbacks=[early_stopping])\n",
    "    \n",
    "    # Evaluate model on validation set\n",
    "    val_loss, val_acc = model.evaluate(X_val, y_val, verbose=0)\n",
    "    \n",
    "    return val_acc\n",
    "\n"
   ]
  },
  {
   "cell_type": "code",
   "execution_count": 7,
   "metadata": {},
   "outputs": [
    {
     "name": "stderr",
     "output_type": "stream",
     "text": [
      "[I 2024-05-24 11:11:53,867] A new study created in memory with name: no-name-e833b871-bed2-441f-8cba-fbb7ce614a2c\n"
     ]
    },
    {
     "data": {
      "application/vnd.jupyter.widget-view+json": {
       "model_id": "e253d1dcec3c4f1eaead207c4f995896",
       "version_major": 2,
       "version_minor": 0
      },
      "text/plain": [
       "  0%|          | 0/25 [00:00<?, ?it/s]"
      ]
     },
     "metadata": {},
     "output_type": "display_data"
    },
    {
     "name": "stderr",
     "output_type": "stream",
     "text": [
      "C:\\Users\\byomo\\AppData\\Local\\Temp\\ipykernel_17052\\4191093952.py:5: FutureWarning: suggest_loguniform has been deprecated in v3.0.0. This feature will be removed in v6.0.0. See https://github.com/optuna/optuna/releases/tag/v3.0.0. Use suggest_float(..., log=True) instead.\n",
      "  learning_rate = trial.suggest_loguniform('learning_rate', 1e-3, 7e-3)\n"
     ]
    },
    {
     "name": "stdout",
     "output_type": "stream",
     "text": [
      "[I 2024-05-24 11:11:57,903] Trial 0 finished with value: 0.9202898740768433 and parameters: {'num_layers': 4, 'num_units': 118, 'learning_rate': 0.0016441767402548138}. Best is trial 0 with value: 0.9202898740768433.\n",
      "[I 2024-05-24 11:12:00,743] Trial 1 finished with value: 0.8840579986572266 and parameters: {'num_layers': 3, 'num_units': 79, 'learning_rate': 0.0018325048958047763}. Best is trial 0 with value: 0.9202898740768433.\n",
      "[I 2024-05-24 11:12:03,092] Trial 2 finished with value: 0.9275362491607666 and parameters: {'num_layers': 3, 'num_units': 87, 'learning_rate': 0.004418258946126452}. Best is trial 2 with value: 0.9275362491607666.\n",
      "[I 2024-05-24 11:12:05,558] Trial 3 finished with value: 0.9275362491607666 and parameters: {'num_layers': 2, 'num_units': 100, 'learning_rate': 0.005944934855956061}. Best is trial 2 with value: 0.9275362491607666.\n",
      "[I 2024-05-24 11:12:07,885] Trial 4 finished with value: 0.8985507488250732 and parameters: {'num_layers': 2, 'num_units': 70, 'learning_rate': 0.004435160900726598}. Best is trial 2 with value: 0.9275362491607666.\n",
      "[I 2024-05-24 11:12:10,487] Trial 5 finished with value: 0.8985507488250732 and parameters: {'num_layers': 3, 'num_units': 43, 'learning_rate': 0.002717349496282359}. Best is trial 2 with value: 0.9275362491607666.\n",
      "[I 2024-05-24 11:12:12,972] Trial 6 finished with value: 0.8768116235733032 and parameters: {'num_layers': 4, 'num_units': 88, 'learning_rate': 0.001831268881103955}. Best is trial 2 with value: 0.9275362491607666.\n",
      "[I 2024-05-24 11:12:15,429] Trial 7 finished with value: 0.8985507488250732 and parameters: {'num_layers': 4, 'num_units': 128, 'learning_rate': 0.0024799510926501378}. Best is trial 2 with value: 0.9275362491607666.\n",
      "[I 2024-05-24 11:12:18,595] Trial 8 finished with value: 0.8768116235733032 and parameters: {'num_layers': 4, 'num_units': 26, 'learning_rate': 0.0024690829891452735}. Best is trial 2 with value: 0.9275362491607666.\n",
      "[I 2024-05-24 11:12:21,106] Trial 9 finished with value: 0.8985507488250732 and parameters: {'num_layers': 4, 'num_units': 92, 'learning_rate': 0.00674844137896586}. Best is trial 2 with value: 0.9275362491607666.\n",
      "[I 2024-05-24 11:12:23,895] Trial 10 finished with value: 0.9130434989929199 and parameters: {'num_layers': 3, 'num_units': 58, 'learning_rate': 0.00108499108261746}. Best is trial 2 with value: 0.9275362491607666.\n",
      "[I 2024-05-24 11:12:26,093] Trial 11 finished with value: 0.9130434989929199 and parameters: {'num_layers': 2, 'num_units': 108, 'learning_rate': 0.005318196633451723}. Best is trial 2 with value: 0.9275362491607666.\n",
      "[I 2024-05-24 11:12:28,968] Trial 12 finished with value: 0.9130434989929199 and parameters: {'num_layers': 2, 'num_units': 102, 'learning_rate': 0.004021284778763808}. Best is trial 2 with value: 0.9275362491607666.\n",
      "[I 2024-05-24 11:12:31,232] Trial 13 finished with value: 0.8985507488250732 and parameters: {'num_layers': 2, 'num_units': 68, 'learning_rate': 0.006678724248477101}. Best is trial 2 with value: 0.9275362491607666.\n",
      "[I 2024-05-24 11:12:33,459] Trial 14 finished with value: 0.8985507488250732 and parameters: {'num_layers': 3, 'num_units': 98, 'learning_rate': 0.0036805272914282074}. Best is trial 2 with value: 0.9275362491607666.\n",
      "[I 2024-05-24 11:12:36,512] Trial 15 finished with value: 0.9057971239089966 and parameters: {'num_layers': 2, 'num_units': 49, 'learning_rate': 0.005051209307210841}. Best is trial 2 with value: 0.9275362491607666.\n",
      "[I 2024-05-24 11:12:39,526] Trial 16 finished with value: 0.8985507488250732 and parameters: {'num_layers': 3, 'num_units': 112, 'learning_rate': 0.0033745836266454296}. Best is trial 2 with value: 0.9275362491607666.\n",
      "[I 2024-05-24 11:12:41,664] Trial 17 finished with value: 0.8985507488250732 and parameters: {'num_layers': 2, 'num_units': 81, 'learning_rate': 0.0059214865711705155}. Best is trial 2 with value: 0.9275362491607666.\n",
      "[I 2024-05-24 11:12:44,620] Trial 18 finished with value: 0.9202898740768433 and parameters: {'num_layers': 3, 'num_units': 120, 'learning_rate': 0.0031920330892733204}. Best is trial 2 with value: 0.9275362491607666.\n",
      "[I 2024-05-24 11:12:48,115] Trial 19 finished with value: 0.9202898740768433 and parameters: {'num_layers': 3, 'num_units': 18, 'learning_rate': 0.004624577476464811}. Best is trial 2 with value: 0.9275362491607666.\n",
      "[I 2024-05-24 11:12:50,266] Trial 20 finished with value: 0.9202898740768433 and parameters: {'num_layers': 2, 'num_units': 86, 'learning_rate': 0.006053128974573309}. Best is trial 2 with value: 0.9275362491607666.\n",
      "[I 2024-05-24 11:12:53,525] Trial 21 finished with value: 0.8985507488250732 and parameters: {'num_layers': 4, 'num_units': 115, 'learning_rate': 0.0011832400833401784}. Best is trial 2 with value: 0.9275362491607666.\n",
      "[I 2024-05-24 11:12:56,794] Trial 22 finished with value: 0.8840579986572266 and parameters: {'num_layers': 4, 'num_units': 127, 'learning_rate': 0.0013927651168632652}. Best is trial 2 with value: 0.9275362491607666.\n",
      "[I 2024-05-24 11:12:59,504] Trial 23 finished with value: 0.8768116235733032 and parameters: {'num_layers': 4, 'num_units': 100, 'learning_rate': 0.0018831095554529336}. Best is trial 2 with value: 0.9275362491607666.\n",
      "[I 2024-05-24 11:13:02,339] Trial 24 finished with value: 0.8695651888847351 and parameters: {'num_layers': 3, 'num_units': 106, 'learning_rate': 0.001390868615954907}. Best is trial 2 with value: 0.9275362491607666.\n"
     ]
    }
   ],
   "source": [
    "# Run Optuna optimization\n",
    "study = optuna.create_study(direction='maximize')\n",
    "study.optimize(objective, n_trials=25, show_progress_bar=True)\n",
    "\n",
    "# Get best hyperparameters\n",
    "best_params = study.best_params\n",
    "\n"
   ]
  },
  {
   "cell_type": "markdown",
   "metadata": {},
   "source": [
    "## Training"
   ]
  },
  {
   "cell_type": "code",
   "execution_count": 8,
   "metadata": {},
   "outputs": [
    {
     "name": "stdout",
     "output_type": "stream",
     "text": [
      "Epoch 1/15\n",
      "14/14 [==============================] - 2s 29ms/step - loss: 0.4948 - accuracy: 0.7882 - val_loss: 0.3341 - val_accuracy: 0.8768\n",
      "Epoch 2/15\n",
      "14/14 [==============================] - 0s 17ms/step - loss: 0.3503 - accuracy: 0.8692 - val_loss: 0.3213 - val_accuracy: 0.8623\n",
      "Epoch 3/15\n",
      "14/14 [==============================] - 0s 6ms/step - loss: 0.3152 - accuracy: 0.8707 - val_loss: 0.2841 - val_accuracy: 0.8841\n",
      "Epoch 4/15\n",
      "14/14 [==============================] - 0s 9ms/step - loss: 0.2839 - accuracy: 0.8738 - val_loss: 0.2767 - val_accuracy: 0.8986\n",
      "Epoch 5/15\n",
      "14/14 [==============================] - 0s 8ms/step - loss: 0.2667 - accuracy: 0.8879 - val_loss: 0.2935 - val_accuracy: 0.8841\n",
      "Epoch 6/15\n",
      "14/14 [==============================] - 0s 7ms/step - loss: 0.2512 - accuracy: 0.8956 - val_loss: 0.2971 - val_accuracy: 0.8841\n",
      "Epoch 7/15\n",
      "14/14 [==============================] - 0s 5ms/step - loss: 0.2498 - accuracy: 0.9034 - val_loss: 0.3024 - val_accuracy: 0.9058\n",
      "Epoch 8/15\n",
      "14/14 [==============================] - 0s 5ms/step - loss: 0.2287 - accuracy: 0.9206 - val_loss: 0.2924 - val_accuracy: 0.9058\n",
      "Epoch 9/15\n",
      "14/14 [==============================] - 0s 4ms/step - loss: 0.1991 - accuracy: 0.9190 - val_loss: 0.3222 - val_accuracy: 0.8841\n",
      "Epoch 10/15\n",
      "14/14 [==============================] - 0s 5ms/step - loss: 0.1980 - accuracy: 0.9315 - val_loss: 0.3532 - val_accuracy: 0.8841\n",
      "Epoch 11/15\n",
      "14/14 [==============================] - 0s 5ms/step - loss: 0.1703 - accuracy: 0.9315 - val_loss: 0.4090 - val_accuracy: 0.8696\n",
      "Epoch 12/15\n",
      "14/14 [==============================] - 0s 4ms/step - loss: 0.1455 - accuracy: 0.9548 - val_loss: 0.3487 - val_accuracy: 0.9058\n",
      "Epoch 13/15\n",
      "14/14 [==============================] - 0s 4ms/step - loss: 0.1214 - accuracy: 0.9579 - val_loss: 0.3352 - val_accuracy: 0.9203\n",
      "Epoch 14/15\n",
      "14/14 [==============================] - 0s 4ms/step - loss: 0.1163 - accuracy: 0.9564 - val_loss: 0.4070 - val_accuracy: 0.8696\n",
      "Epoch 15/15\n",
      "14/14 [==============================] - 0s 4ms/step - loss: 0.1167 - accuracy: 0.9502 - val_loss: 0.4911 - val_accuracy: 0.8841\n",
      "Test Accuracy: 0.8695651888847351\n",
      "5/5 [==============================] - 0s 1ms/step\n"
     ]
    }
   ],
   "source": [
    "# Train final model with best hyperparameters\n",
    "final_model = Sequential()\n",
    "for _ in range(best_params['num_layers']):\n",
    "    final_model.add(Dense(best_params['num_units'], activation='relu', input_shape=(X_train.shape[1],)))\n",
    "\n",
    "final_model.add(Dense(1, activation='sigmoid'))  # 1 output neuron for binary classification\n",
    "\n",
    "final_model.compile(optimizer=tf.keras.optimizers.Adam(learning_rate=best_params['learning_rate']),\n",
    "                     loss='binary_crossentropy',\n",
    "                     metrics=['accuracy'])\n",
    "\n",
    "final_model.fit(X_train, y_train, epochs=15, batch_size=48, verbose=1, validation_data=(X_val, y_val))\n",
    "\n",
    "# Evaluate final model on test set\n",
    "test_loss, test_acc = final_model.evaluate(X_test, y_test, verbose=0)\n",
    "print(\"Test Accuracy:\", test_acc)\n",
    "\n",
    "# Predict on test set\n",
    "y_pred_probs = final_model.predict(X_test)\n",
    "y_pred = np.round(y_pred_probs).astype(int)\n",
    "\n"
   ]
  },
  {
   "cell_type": "markdown",
   "metadata": {},
   "source": [
    "## Results"
   ]
  },
  {
   "cell_type": "code",
   "execution_count": 9,
   "metadata": {},
   "outputs": [
    {
     "name": "stdout",
     "output_type": "stream",
     "text": [
      "Accuracy: 0.8695652173913043\n",
      "Precision: 0.891566265060241\n",
      "Recall: 0.891566265060241\n",
      "F1 Score: 0.891566265060241\n",
      "ROC AUC Score: 0.9097480832420591\n"
     ]
    }
   ],
   "source": [
    "# Calculate additional performance metrics\n",
    "precision = precision_score(y_test, y_pred, average='binary')\n",
    "recall = recall_score(y_test, y_pred, average='binary')\n",
    "accuracy= accuracy_score(y_test, y_pred)\n",
    "roc_auc = roc_auc_score(y_test, y_pred_probs)\n",
    "f1 = f1_score(y_test, y_pred, average='binary')\n",
    "print(\"Accuracy:\", accuracy)\n",
    "print(\"Precision:\", precision)\n",
    "print(\"Recall:\", recall)\n",
    "print(\"F1 Score:\", f1)\n",
    "print(\"ROC AUC Score:\", roc_auc)"
   ]
  },
  {
   "cell_type": "code",
   "execution_count": 10,
   "metadata": {},
   "outputs": [
    {
     "data": {
      "image/png": "[encoded data removed]",
      "text/plain": [
       "<Figure size 800x600 with 2 Axes>"
      ]
     },
     "metadata": {},
     "output_type": "display_data"
    }
   ],
   "source": [
    "# Plot the confusion matrix using seaborn for better visualization\n",
    "conf_matrix = confusion_matrix(y_test, y_pred)\n",
    "plt.figure(figsize=(8, 6))\n",
    "sns.heatmap(conf_matrix/np.sum(conf_matrix), annot=True, fmt='.2%', cmap='Blues', xticklabels=['No Disease', 'Disease'], yticklabels=['No Disease', 'Disease'])\n",
    "plt.xlabel('Predicted')\n",
    "plt.ylabel('True')\n",
    "plt.title('Confusion Matrix')\n",
    "plt.show()\n"
   ]
  },
  {
   "cell_type": "code",
   "execution_count": 11,
   "metadata": {},
   "outputs": [
    {
     "name": "stdout",
     "output_type": "stream",
     "text": [
      "Model: \"sequential_25\"\n",
      "_________________________________________________________________\n",
      " Layer (type)                Output Shape              Param #   \n",
      "=================================================================\n",
      " dense_100 (Dense)           (None, 87)                1044      \n",
      "                                                                 \n",
      " dense_101 (Dense)           (None, 87)                7656      \n",
      "                                                                 \n",
      " dense_102 (Dense)           (None, 87)                7656      \n",
      "                                                                 \n",
      " dense_103 (Dense)           (None, 1)                 88        \n",
      "                                                                 \n",
      "=================================================================\n",
      "Total params: 16,444\n",
      "Trainable params: 16,444\n",
      "Non-trainable params: 0\n",
      "_________________________________________________________________\n"
     ]
    }
   ],
   "source": [
    "# Print model architecture\n",
    "final_model.summary()"
   ]
  },
  {
   "cell_type": "markdown",
   "metadata": {},
   "source": [
    "## Saving the Model"
   ]
  },
  {
   "cell_type": "code",
   "execution_count": 12,
   "metadata": {},
   "outputs": [],
   "source": [
    "'''# Save the model\n",
    "final_model.save('./models/ANN.h5')'''\n"
   ]
  },
  {
   "cell_type": "code",
   "execution_count": 21,
   "metadata": {},
   "outputs": [
    {
     "name": "stdout",
     "output_type": "stream",
     "text": [
      "29/29 [==============================] - 0s 2ms/step\n"
     ]
    }
   ],
   "source": [
    "y_pred_probs = final_model.predict(X)\n",
    "y_pred = np.round(y_pred_probs).astype(int)"
   ]
  },
  {
   "cell_type": "code",
   "execution_count": 47,
   "metadata": {},
   "outputs": [
    {
     "name": "stdout",
     "output_type": "stream",
     "text": [
      "ANN Accuracy: 0.9400871459694989\n"
     ]
    }
   ],
   "source": [
    "\n",
    "ann_accuracy = accuracy_score(y, y_pred)\n",
    "print(\"ANN Accuracy:\", ann_accuracy)\n"
   ]
  },
  {
   "cell_type": "code",
   "execution_count": 23,
   "metadata": {},
   "outputs": [
    {
     "data": {
      "text/plain": [
       "(918, 1)"
      ]
     },
     "execution_count": 23,
     "metadata": {},
     "output_type": "execute_result"
    }
   ],
   "source": [
    "y_pred.shape"
   ]
  }
 ],
 "metadata": {
  "kernelspec": {
   "display_name": "Python 3",
   "language": "python",
   "name": "python3"
  },
  "language_info": {
   "codemirror_mode": {
    "name": "ipython",
    "version": 3
   },
   "file_extension": ".py",
   "mimetype": "text/x-python",
   "name": "python",
   "nbconvert_exporter": "python",
   "pygments_lexer": "ipython3",
   "version": "3.11.4"
  }
 },
 "nbformat": 4,
 "nbformat_minor": 2
}
