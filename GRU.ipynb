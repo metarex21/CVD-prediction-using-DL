{
 "cells": [
  {
   "cell_type": "markdown",
   "metadata": {},
   "source": [
    "## Imports"
   ]
  },
  {
   "cell_type": "code",
   "execution_count": null,
   "metadata": {},
   "outputs": [],
   "source": [
    "import optuna\n",
    "from sklearn.preprocessing import LabelEncoder, StandardScaler\n",
    "from sklearn.model_selection import train_test_split\n",
    "from tensorflow.keras.models import Sequential\n",
    "from tensorflow.keras.layers import Dense, GRU\n",
    "from tensorflow.keras.callbacks import EarlyStopping\n",
    "import tensorflow as tf\n",
    "import numpy as np\n",
    "from sklearn.metrics import precision_score, recall_score, confusion_matrix\n",
    "import pandas as pd\n",
    "import matplotlib.pyplot as plt\n",
    "import seaborn as sns\n",
    "from sklearn.metrics import confusion_matrix, precision_score, recall_score, f1_score, accuracy_score, roc_auc_score\n",
    "from sklearn.metrics import classification_report\n"
   ]
  },
  {
   "cell_type": "code",
   "execution_count": 30,
   "metadata": {},
   "outputs": [],
   "source": [
    "\n",
    "df = pd.read_csv(\"./dataset/heart.csv\")"
   ]
  },
  {
   "cell_type": "code",
   "execution_count": 31,
   "metadata": {},
   "outputs": [],
   "source": [
    "# Encode categorical features\n",
    "label_encoder = LabelEncoder()\n",
    "categorical_cols = ['Sex', 'ChestPainType', 'FastingBS', 'RestingECG', 'ExerciseAngina', 'ST_Slope']\n",
    "for col in categorical_cols:\n",
    "    df[col] = label_encoder.fit_transform(df[col])"
   ]
  },
  {
   "cell_type": "code",
   "execution_count": 32,
   "metadata": {},
   "outputs": [],
   "source": [
    "\n",
    "# Split the data into features (X) and target variable (y)\n",
    "X = df.drop('HeartDisease', axis=1)\n",
    "y = df['HeartDisease']\n",
    "\n",
    "# Standardize features\n",
    "scaler = StandardScaler()\n",
    "X = scaler.fit_transform(X)\n",
    "# Reshape X for GRU input\n",
    "X = X.reshape((X.shape[0], 1, X.shape[1]))\n"
   ]
  },
  {
   "cell_type": "code",
   "execution_count": 33,
   "metadata": {},
   "outputs": [],
   "source": [
    "# Split data into train, validation, and test sets\n",
    "X_train, X_val_test, y_train, y_val_test = train_test_split(X, y, test_size=0.3, random_state=42)\n",
    "X_val, X_test, y_val, y_test = train_test_split(X_val_test, y_val_test, test_size=0.5, random_state=42)"
   ]
  },
  {
   "cell_type": "code",
   "execution_count": 34,
   "metadata": {},
   "outputs": [],
   "source": [
    "def objective(trial):\n",
    "    # Define search space for hyperparameters\n",
    "    num_layers = trial.suggest_int('num_layers', 1, 3)\n",
    "    num_units = trial.suggest_int('num_units', 32, 256)\n",
    "    learning_rate = trial.suggest_loguniform('learning_rate', 1e-4, 1e-2)\n",
    "    \n",
    "    # Build GRU model\n",
    "    model = Sequential()\n",
    "    for i in range(num_layers):\n",
    "        if i == 0:\n",
    "            model.add(GRU(num_units, activation='relu', input_shape=(X_train.shape[1], X_train.shape[2]), return_sequences=True))\n",
    "        elif i == num_layers - 1:\n",
    "            model.add(GRU(num_units, activation='relu'))\n",
    "        else:\n",
    "            model.add(GRU(num_units, activation='relu', return_sequences=True))\n",
    "    \n",
    "    model.add(Dense(1, activation='sigmoid'))  # 1 output neuron for binary classification\n",
    "    \n",
    "    # Compile model\n",
    "    model.compile(optimizer=tf.keras.optimizers.Adam(learning_rate=learning_rate),\n",
    "                  loss='binary_crossentropy',\n",
    "                  metrics=['accuracy'])\n",
    "    \n",
    "    # Define EarlyStopping callback\n",
    "    early_stopping = EarlyStopping(monitor='val_loss', patience=5, restore_best_weights=True)\n",
    "    \n",
    "    # Train model with early stopping\n",
    "    model.fit(X_train, y_train, epochs=50, batch_size=32, verbose=0, validation_data=(X_val, y_val), callbacks=[early_stopping])\n",
    "    \n",
    "    # Evaluate model on validation set\n",
    "    val_loss, val_acc = model.evaluate(X_val, y_val, verbose=0)\n",
    "    \n",
    "    return val_acc\n"
   ]
  },
  {
   "cell_type": "code",
   "execution_count": 35,
   "metadata": {},
   "outputs": [
    {
     "name": "stderr",
     "output_type": "stream",
     "text": [
      "[I 2024-05-24 12:45:50,985] A new study created in memory with name: no-name-bc61a152-c409-4fcc-bf0b-d1696e304fa8\n"
     ]
    },
    {
     "data": {
      "application/vnd.jupyter.widget-view+json": {
       "model_id": "04d6cd531b294fbdad15a656e53abe3b",
       "version_major": 2,
       "version_minor": 0
      },
      "text/plain": [
       "  0%|          | 0/25 [00:00<?, ?it/s]"
      ]
     },
     "metadata": {},
     "output_type": "display_data"
    },
    {
     "name": "stderr",
     "output_type": "stream",
     "text": [
      "C:\\Users\\byomo\\AppData\\Local\\Temp\\ipykernel_9344\\1090780275.py:5: FutureWarning: suggest_loguniform has been deprecated in v3.0.0. This feature will be removed in v6.0.0. See https://github.com/optuna/optuna/releases/tag/v3.0.0. Use suggest_float(..., log=True) instead.\n",
      "  learning_rate = trial.suggest_loguniform('learning_rate', 1e-4, 1e-2)\n"
     ]
    },
    {
     "name": "stdout",
     "output_type": "stream",
     "text": [
      "[I 2024-05-24 12:46:02,614] Trial 0 finished with value: 0.8623188138008118 and parameters: {'num_layers': 3, 'num_units': 38, 'learning_rate': 0.000570264104522469}. Best is trial 0 with value: 0.8623188138008118.\n",
      "[I 2024-05-24 12:46:09,030] Trial 1 finished with value: 0.8550724387168884 and parameters: {'num_layers': 1, 'num_units': 140, 'learning_rate': 0.0001908023785270756}. Best is trial 0 with value: 0.8623188138008118.\n",
      "[I 2024-05-24 12:46:15,874] Trial 2 finished with value: 0.8913043737411499 and parameters: {'num_layers': 2, 'num_units': 90, 'learning_rate': 0.0012906614076743114}. Best is trial 2 with value: 0.8913043737411499.\n",
      "[I 2024-05-24 12:46:24,437] Trial 3 finished with value: 0.9057971239089966 and parameters: {'num_layers': 3, 'num_units': 146, 'learning_rate': 0.0010802311315397577}. Best is trial 3 with value: 0.9057971239089966.\n",
      "[I 2024-05-24 12:46:34,395] Trial 4 finished with value: 0.9057971239089966 and parameters: {'num_layers': 2, 'num_units': 149, 'learning_rate': 0.0005545814348213641}. Best is trial 3 with value: 0.9057971239089966.\n",
      "[I 2024-05-24 12:46:45,105] Trial 5 finished with value: 0.9130434989929199 and parameters: {'num_layers': 3, 'num_units': 169, 'learning_rate': 0.0018732139795407919}. Best is trial 5 with value: 0.9130434989929199.\n",
      "[I 2024-05-24 12:46:53,810] Trial 6 finished with value: 0.9130434989929199 and parameters: {'num_layers': 2, 'num_units': 215, 'learning_rate': 0.0015097549289794458}. Best is trial 5 with value: 0.9130434989929199.\n",
      "[I 2024-05-24 12:47:04,087] Trial 7 finished with value: 0.8768116235733032 and parameters: {'num_layers': 3, 'num_units': 175, 'learning_rate': 0.005017088737067951}. Best is trial 5 with value: 0.9130434989929199.\n",
      "[I 2024-05-24 12:47:12,175] Trial 8 finished with value: 0.8623188138008118 and parameters: {'num_layers': 1, 'num_units': 140, 'learning_rate': 0.00015005698550504983}. Best is trial 5 with value: 0.9130434989929199.\n",
      "[I 2024-05-24 12:47:18,166] Trial 9 finished with value: 0.8478260636329651 and parameters: {'num_layers': 1, 'num_units': 137, 'learning_rate': 0.0004493328390344842}. Best is trial 5 with value: 0.9130434989929199.\n",
      "[I 2024-05-24 12:47:28,011] Trial 10 finished with value: 0.8768116235733032 and parameters: {'num_layers': 3, 'num_units': 256, 'learning_rate': 0.008673536684963649}. Best is trial 5 with value: 0.9130434989929199.\n",
      "[I 2024-05-24 12:47:37,861] Trial 11 finished with value: 0.9130434989929199 and parameters: {'num_layers': 2, 'num_units': 221, 'learning_rate': 0.0024346632343135452}. Best is trial 5 with value: 0.9130434989929199.\n",
      "[I 2024-05-24 12:47:45,710] Trial 12 finished with value: 0.9057971239089966 and parameters: {'num_layers': 2, 'num_units': 206, 'learning_rate': 0.0024152550450658016}. Best is trial 5 with value: 0.9130434989929199.\n",
      "[I 2024-05-24 12:47:53,404] Trial 13 finished with value: 0.9130434989929199 and parameters: {'num_layers': 2, 'num_units': 202, 'learning_rate': 0.002257123331184078}. Best is trial 5 with value: 0.9130434989929199.\n",
      "[I 2024-05-24 12:48:03,495] Trial 14 finished with value: 0.8985507488250732 and parameters: {'num_layers': 3, 'num_units': 254, 'learning_rate': 0.0038413325332791624}. Best is trial 5 with value: 0.9130434989929199.\n",
      "[I 2024-05-24 12:48:11,255] Trial 15 finished with value: 0.8913043737411499 and parameters: {'num_layers': 2, 'num_units': 97, 'learning_rate': 0.0015448479309761714}. Best is trial 5 with value: 0.9130434989929199.\n",
      "[I 2024-05-24 12:48:24,402] Trial 16 finished with value: 0.9202898740768433 and parameters: {'num_layers': 3, 'num_units': 176, 'learning_rate': 0.00033688319429492423}. Best is trial 16 with value: 0.9202898740768433.\n",
      "[I 2024-05-24 12:48:41,919] Trial 17 finished with value: 0.9057971239089966 and parameters: {'num_layers': 3, 'num_units': 177, 'learning_rate': 0.0002923239850431872}. Best is trial 16 with value: 0.9202898740768433.\n",
      "[I 2024-05-24 12:48:55,657] Trial 18 finished with value: 0.8913043737411499 and parameters: {'num_layers': 3, 'num_units': 110, 'learning_rate': 0.00031405590235521294}. Best is trial 16 with value: 0.9202898740768433.\n",
      "[I 2024-05-24 12:49:09,314] Trial 19 finished with value: 0.9130434989929199 and parameters: {'num_layers': 3, 'num_units': 174, 'learning_rate': 0.0007319663369993682}. Best is trial 16 with value: 0.9202898740768433.\n",
      "[I 2024-05-24 12:49:20,852] Trial 20 finished with value: 0.8695651888847351 and parameters: {'num_layers': 3, 'num_units': 56, 'learning_rate': 0.00010978824468186993}. Best is trial 16 with value: 0.9202898740768433.\n",
      "[I 2024-05-24 12:49:30,185] Trial 21 finished with value: 0.9202898740768433 and parameters: {'num_layers': 2, 'num_units': 230, 'learning_rate': 0.000866595587514142}. Best is trial 16 with value: 0.9202898740768433.\n",
      "[I 2024-05-24 12:49:40,082] Trial 22 finished with value: 0.9130434989929199 and parameters: {'num_layers': 2, 'num_units': 235, 'learning_rate': 0.0008420726722880757}. Best is trial 16 with value: 0.9202898740768433.\n",
      "[I 2024-05-24 12:49:52,624] Trial 23 finished with value: 0.8985507488250732 and parameters: {'num_layers': 2, 'num_units': 189, 'learning_rate': 0.00035754854962674853}. Best is trial 16 with value: 0.9202898740768433.\n",
      "[I 2024-05-24 12:50:06,109] Trial 24 finished with value: 0.8840579986572266 and parameters: {'num_layers': 3, 'num_units': 159, 'learning_rate': 0.00019804191796418842}. Best is trial 16 with value: 0.9202898740768433.\n"
     ]
    }
   ],
   "source": [
    "# Run Optuna optimization\n",
    "study = optuna.create_study(direction='maximize')\n",
    "study.optimize(objective, n_trials=25, show_progress_bar=True)\n",
    "\n",
    "# Get best hyperparameters\n",
    "best_params = study.best_params\n",
    "\n"
   ]
  },
  {
   "cell_type": "code",
   "execution_count": 41,
   "metadata": {},
   "outputs": [
    {
     "name": "stdout",
     "output_type": "stream",
     "text": [
      "Epoch 1/50\n",
      "21/21 [==============================] - 5s 39ms/step - loss: 0.6844 - accuracy: 0.7492 - val_loss: 0.6631 - val_accuracy: 0.8551\n",
      "Epoch 2/50\n",
      "21/21 [==============================] - 0s 12ms/step - loss: 0.6374 - accuracy: 0.8178 - val_loss: 0.5761 - val_accuracy: 0.8551\n",
      "Epoch 3/50\n",
      "21/21 [==============================] - 0s 13ms/step - loss: 0.5243 - accuracy: 0.8380 - val_loss: 0.4176 - val_accuracy: 0.8478\n",
      "Epoch 4/50\n",
      "21/21 [==============================] - 0s 12ms/step - loss: 0.4043 - accuracy: 0.8474 - val_loss: 0.3468 - val_accuracy: 0.8406\n",
      "Epoch 5/50\n",
      "21/21 [==============================] - 0s 12ms/step - loss: 0.3708 - accuracy: 0.8505 - val_loss: 0.3460 - val_accuracy: 0.8478\n",
      "Epoch 6/50\n",
      "21/21 [==============================] - 0s 13ms/step - loss: 0.3541 - accuracy: 0.8551 - val_loss: 0.3541 - val_accuracy: 0.8551\n",
      "Epoch 7/50\n",
      "21/21 [==============================] - 0s 21ms/step - loss: 0.3489 - accuracy: 0.8520 - val_loss: 0.3467 - val_accuracy: 0.8696\n",
      "Epoch 8/50\n",
      "21/21 [==============================] - 0s 13ms/step - loss: 0.3408 - accuracy: 0.8614 - val_loss: 0.3447 - val_accuracy: 0.8623\n",
      "Epoch 9/50\n",
      "21/21 [==============================] - 0s 14ms/step - loss: 0.3350 - accuracy: 0.8614 - val_loss: 0.3354 - val_accuracy: 0.8696\n",
      "Epoch 10/50\n",
      "21/21 [==============================] - 0s 12ms/step - loss: 0.3278 - accuracy: 0.8645 - val_loss: 0.3340 - val_accuracy: 0.8696\n",
      "Epoch 11/50\n",
      "21/21 [==============================] - 0s 12ms/step - loss: 0.3237 - accuracy: 0.8660 - val_loss: 0.3313 - val_accuracy: 0.8696\n",
      "Epoch 12/50\n",
      "21/21 [==============================] - 0s 12ms/step - loss: 0.3191 - accuracy: 0.8676 - val_loss: 0.3179 - val_accuracy: 0.8623\n",
      "Epoch 13/50\n",
      "21/21 [==============================] - 0s 12ms/step - loss: 0.3331 - accuracy: 0.8567 - val_loss: 0.3129 - val_accuracy: 0.8913\n",
      "Epoch 14/50\n",
      "21/21 [==============================] - 0s 12ms/step - loss: 0.3152 - accuracy: 0.8614 - val_loss: 0.3114 - val_accuracy: 0.8768\n",
      "Epoch 15/50\n",
      "21/21 [==============================] - 0s 18ms/step - loss: 0.3062 - accuracy: 0.8645 - val_loss: 0.3119 - val_accuracy: 0.8696\n",
      "Epoch 16/50\n",
      "21/21 [==============================] - 0s 15ms/step - loss: 0.3124 - accuracy: 0.8692 - val_loss: 0.3184 - val_accuracy: 0.8696\n",
      "Epoch 17/50\n",
      "21/21 [==============================] - 0s 13ms/step - loss: 0.3023 - accuracy: 0.8676 - val_loss: 0.2982 - val_accuracy: 0.8913\n",
      "Epoch 18/50\n",
      "21/21 [==============================] - 0s 14ms/step - loss: 0.2954 - accuracy: 0.8707 - val_loss: 0.3055 - val_accuracy: 0.8696\n",
      "Epoch 19/50\n",
      "21/21 [==============================] - 0s 17ms/step - loss: 0.2914 - accuracy: 0.8785 - val_loss: 0.3014 - val_accuracy: 0.8768\n",
      "Epoch 20/50\n",
      "21/21 [==============================] - 0s 12ms/step - loss: 0.2881 - accuracy: 0.8754 - val_loss: 0.2997 - val_accuracy: 0.8768\n",
      "Epoch 21/50\n",
      "21/21 [==============================] - 0s 13ms/step - loss: 0.2850 - accuracy: 0.8754 - val_loss: 0.2928 - val_accuracy: 0.8841\n",
      "Epoch 22/50\n",
      "21/21 [==============================] - 0s 13ms/step - loss: 0.2787 - accuracy: 0.8801 - val_loss: 0.2970 - val_accuracy: 0.8696\n",
      "Epoch 23/50\n",
      "21/21 [==============================] - 0s 13ms/step - loss: 0.2779 - accuracy: 0.8832 - val_loss: 0.2921 - val_accuracy: 0.8986\n",
      "Epoch 24/50\n",
      "21/21 [==============================] - 0s 15ms/step - loss: 0.2727 - accuracy: 0.8816 - val_loss: 0.2836 - val_accuracy: 0.8986\n",
      "Epoch 25/50\n",
      "21/21 [==============================] - 0s 14ms/step - loss: 0.2669 - accuracy: 0.8847 - val_loss: 0.2874 - val_accuracy: 0.8841\n",
      "Epoch 26/50\n",
      "21/21 [==============================] - 0s 14ms/step - loss: 0.2681 - accuracy: 0.8847 - val_loss: 0.2777 - val_accuracy: 0.8986\n",
      "Epoch 27/50\n",
      "21/21 [==============================] - 0s 14ms/step - loss: 0.2725 - accuracy: 0.8832 - val_loss: 0.2764 - val_accuracy: 0.8986\n",
      "Epoch 28/50\n",
      "21/21 [==============================] - 0s 15ms/step - loss: 0.2593 - accuracy: 0.8910 - val_loss: 0.2738 - val_accuracy: 0.9130\n",
      "Epoch 29/50\n",
      "21/21 [==============================] - 0s 14ms/step - loss: 0.2568 - accuracy: 0.8956 - val_loss: 0.2874 - val_accuracy: 0.9130\n",
      "Epoch 30/50\n",
      "21/21 [==============================] - 0s 12ms/step - loss: 0.2606 - accuracy: 0.8956 - val_loss: 0.2880 - val_accuracy: 0.9130\n",
      "Epoch 31/50\n",
      "21/21 [==============================] - 0s 13ms/step - loss: 0.2489 - accuracy: 0.8956 - val_loss: 0.2783 - val_accuracy: 0.9130\n",
      "Epoch 32/50\n",
      "21/21 [==============================] - 0s 14ms/step - loss: 0.2442 - accuracy: 0.8910 - val_loss: 0.2762 - val_accuracy: 0.9130\n",
      "Epoch 33/50\n",
      "21/21 [==============================] - 0s 13ms/step - loss: 0.2396 - accuracy: 0.8972 - val_loss: 0.2661 - val_accuracy: 0.9130\n",
      "Epoch 34/50\n",
      "21/21 [==============================] - 0s 13ms/step - loss: 0.2372 - accuracy: 0.8988 - val_loss: 0.2629 - val_accuracy: 0.9130\n",
      "Epoch 35/50\n",
      "21/21 [==============================] - 0s 14ms/step - loss: 0.2348 - accuracy: 0.9019 - val_loss: 0.2607 - val_accuracy: 0.9130\n",
      "Epoch 36/50\n",
      "21/21 [==============================] - 0s 14ms/step - loss: 0.2287 - accuracy: 0.9050 - val_loss: 0.2588 - val_accuracy: 0.9130\n",
      "Epoch 37/50\n",
      "21/21 [==============================] - 0s 18ms/step - loss: 0.2284 - accuracy: 0.8988 - val_loss: 0.2567 - val_accuracy: 0.9058\n",
      "Epoch 38/50\n",
      "21/21 [==============================] - 0s 12ms/step - loss: 0.2248 - accuracy: 0.9034 - val_loss: 0.2710 - val_accuracy: 0.8986\n",
      "Epoch 39/50\n",
      "21/21 [==============================] - 0s 13ms/step - loss: 0.2191 - accuracy: 0.9097 - val_loss: 0.2533 - val_accuracy: 0.9130\n",
      "Epoch 40/50\n",
      "21/21 [==============================] - 0s 13ms/step - loss: 0.2156 - accuracy: 0.9097 - val_loss: 0.2569 - val_accuracy: 0.9130\n",
      "Epoch 41/50\n",
      "21/21 [==============================] - 0s 14ms/step - loss: 0.2119 - accuracy: 0.9143 - val_loss: 0.2569 - val_accuracy: 0.9130\n",
      "Epoch 42/50\n",
      "21/21 [==============================] - 0s 16ms/step - loss: 0.2062 - accuracy: 0.9159 - val_loss: 0.2684 - val_accuracy: 0.8986\n",
      "Epoch 43/50\n",
      "21/21 [==============================] - 0s 13ms/step - loss: 0.2056 - accuracy: 0.9190 - val_loss: 0.2617 - val_accuracy: 0.9130\n",
      "Epoch 44/50\n",
      "21/21 [==============================] - 0s 13ms/step - loss: 0.2009 - accuracy: 0.9112 - val_loss: 0.2654 - val_accuracy: 0.8986\n",
      "Epoch 45/50\n",
      "21/21 [==============================] - 0s 13ms/step - loss: 0.2066 - accuracy: 0.9112 - val_loss: 0.3031 - val_accuracy: 0.8986\n",
      "Epoch 46/50\n",
      "21/21 [==============================] - 0s 13ms/step - loss: 0.2007 - accuracy: 0.9206 - val_loss: 0.2717 - val_accuracy: 0.9058\n",
      "Epoch 47/50\n",
      "21/21 [==============================] - 0s 13ms/step - loss: 0.1919 - accuracy: 0.9221 - val_loss: 0.2784 - val_accuracy: 0.9058\n",
      "Epoch 48/50\n",
      "21/21 [==============================] - 0s 18ms/step - loss: 0.1876 - accuracy: 0.9268 - val_loss: 0.2737 - val_accuracy: 0.8913\n",
      "Epoch 49/50\n",
      "21/21 [==============================] - 0s 13ms/step - loss: 0.1839 - accuracy: 0.9299 - val_loss: 0.2730 - val_accuracy: 0.8986\n",
      "Epoch 50/50\n",
      "21/21 [==============================] - 0s 13ms/step - loss: 0.1800 - accuracy: 0.9299 - val_loss: 0.2756 - val_accuracy: 0.8986\n",
      "Test Accuracy: 0.8840579986572266\n",
      "5/5 [==============================] - 0s 3ms/step\n"
     ]
    }
   ],
   "source": [
    "# Train final model with best hyperparameters\n",
    "final_model = Sequential()\n",
    "for i in range(best_params['num_layers']):\n",
    "    if i == 0:\n",
    "        final_model.add(GRU(best_params['num_units'], activation='relu', input_shape=(X_train.shape[1], X_train.shape[2]), return_sequences=True))\n",
    "    elif i == best_params['num_layers'] - 1:\n",
    "        final_model.add(GRU(best_params['num_units'], activation='relu'))\n",
    "    else:\n",
    "        final_model.add(GRU(best_params['num_units'], activation='relu', return_sequences=True))\n",
    "\n",
    "final_model.add(Dense(1, activation='sigmoid'))  # 1 output neuron for binary classification\n",
    "\n",
    "final_model.compile(optimizer=tf.keras.optimizers.Adam(learning_rate=best_params['learning_rate']),\n",
    "                     loss='binary_crossentropy',\n",
    "                     metrics=['accuracy'])\n",
    "\n",
    "final_model.fit(X_train, y_train, epochs=50, batch_size=32, verbose=1, validation_data=(X_val, y_val))\n",
    "\n",
    "# Evaluate final model on test set\n",
    "test_loss, test_acc = final_model.evaluate(X_test, y_test, verbose=0)\n",
    "print(\"Test Accuracy:\", test_acc)\n",
    "\n",
    "# Predict on test set\n",
    "y_pred_probs = final_model.predict(X_test)\n",
    "y_pred = np.round(y_pred_probs).astype(int)\n",
    "\n"
   ]
  },
  {
   "cell_type": "code",
   "execution_count": 42,
   "metadata": {},
   "outputs": [
    {
     "name": "stdout",
     "output_type": "stream",
     "text": [
      "Accuracy: 0.8840579710144928\n",
      "Precision: 0.9240506329113924\n",
      "Recall: 0.8795180722891566\n",
      "F1 Score: 0.9012345679012346\n",
      "ROC AUC Score: 0.9524644030668127\n"
     ]
    }
   ],
   "source": [
    "# Calculate additional performance metrics\n",
    "precision = precision_score(y_test, y_pred, average='binary')\n",
    "recall = recall_score(y_test, y_pred, average='binary')\n",
    "accuracy= accuracy_score(y_test, y_pred)\n",
    "roc_auc = roc_auc_score(y_test, y_pred_probs)\n",
    "f1 = f1_score(y_test, y_pred, average='binary')\n",
    "print(\"Accuracy:\", accuracy)\n",
    "print(\"Precision:\", precision)\n",
    "print(\"Recall:\", recall)\n",
    "print(\"F1 Score:\", f1)\n",
    "print(\"ROC AUC Score:\", roc_auc)"
   ]
  },
  {
   "cell_type": "code",
   "execution_count": 43,
   "metadata": {},
   "outputs": [
    {
     "data": {
      "image/png": "[encoded data removed]",
      "text/plain": [
       "<Figure size 800x600 with 2 Axes>"
      ]
     },
     "metadata": {},
     "output_type": "display_data"
    }
   ],
   "source": [
    "# Plot the confusion matrix using seaborn for better visualization\n",
    "conf_matrix = confusion_matrix(y_test, y_pred)\n",
    "plt.figure(figsize=(8, 6))\n",
    "sns.heatmap(conf_matrix/np.sum(conf_matrix), annot=True, fmt='.2%', cmap='Blues', xticklabels=['No Disease', 'Disease'], yticklabels=['No Disease', 'Disease'])\n",
    "plt.xlabel('Predicted')\n",
    "plt.ylabel('True')\n",
    "plt.title('Confusion Matrix')\n",
    "plt.show()\n"
   ]
  },
  {
   "cell_type": "code",
   "execution_count": 39,
   "metadata": {},
   "outputs": [
    {
     "name": "stdout",
     "output_type": "stream",
     "text": [
      "              precision    recall  f1-score   support\n",
      "\n",
      "           0       0.86      0.93      0.89        55\n",
      "           1       0.95      0.90      0.93        83\n",
      "\n",
      "    accuracy                           0.91       138\n",
      "   macro avg       0.91      0.92      0.91       138\n",
      "weighted avg       0.92      0.91      0.91       138\n",
      "\n"
     ]
    }
   ],
   "source": [
    "print(classification_report(y_test, y_pred))"
   ]
  },
  {
   "cell_type": "markdown",
   "metadata": {},
   "source": [
    "## Saving the Model"
   ]
  },
  {
   "cell_type": "code",
   "execution_count": 44,
   "metadata": {},
   "outputs": [],
   "source": [
    "'''# Save the model\n",
    "final_model.save('./models/GRU.h5')'''\n"
   ]
  }
 ],
 "metadata": {
  "kernelspec": {
   "display_name": "Python 3",
   "language": "python",
   "name": "python3"
  },
  "language_info": {
   "codemirror_mode": {
    "name": "ipython",
    "version": 3
   },
   "file_extension": ".py",
   "mimetype": "text/x-python",
   "name": "python",
   "nbconvert_exporter": "python",
   "pygments_lexer": "ipython3",
   "version": "3.11.4"
  }
 },
 "nbformat": 4,
 "nbformat_minor": 2
}
