{
 "cells": [
  {
   "cell_type": "code",
   "execution_count": 1,
   "metadata": {},
   "outputs": [],
   "source": [
    "import optuna\n",
    "from sklearn.preprocessing import LabelEncoder, StandardScaler\n",
    "from sklearn.model_selection import train_test_split\n",
    "from tensorflow.keras.models import Sequential\n",
    "from tensorflow.keras.layers import Dense, LSTM\n",
    "from tensorflow.keras.callbacks import EarlyStopping\n",
    "import tensorflow as tf\n",
    "import numpy as np\n",
    "from sklearn.metrics import precision_score, recall_score, confusion_matrix\n",
    "import pandas as pd\n",
    "\n",
    "import matplotlib.pyplot as plt\n",
    "import seaborn as sns\n",
    "from sklearn.metrics import confusion_matrix, precision_score, recall_score, f1_score, accuracy_score, roc_auc_score\n",
    "from sklearn.metrics import classification_report\n"
   ]
  },
  {
   "cell_type": "code",
   "execution_count": 2,
   "metadata": {},
   "outputs": [],
   "source": [
    "df = pd.read_csv(\"./dataset/heart.csv\")"
   ]
  },
  {
   "cell_type": "code",
   "execution_count": 3,
   "metadata": {},
   "outputs": [],
   "source": [
    "df = pd.read_csv(\"./dataset/heart.csv\")\n",
    "\n",
    "# Encode categorical features\n",
    "label_encoder = LabelEncoder()\n",
    "categorical_cols = ['Sex', 'ChestPainType', 'FastingBS', 'RestingECG', 'ExerciseAngina', 'ST_Slope']\n",
    "for col in categorical_cols:\n",
    "    df[col] = label_encoder.fit_transform(df[col])\n",
    "\n",
    "# Split the data into features (X) and target variable (y)\n",
    "X = df.drop('HeartDisease', axis=1)\n",
    "y = df['HeartDisease']\n",
    "\n",
    "# Standardize features\n",
    "scaler = StandardScaler()\n",
    "X = scaler.fit_transform(X)\n",
    "\n",
    "# Reshape X for LSTM input\n",
    "X = X.reshape((X.shape[0], 1, X.shape[1]))\n",
    "\n",
    "# Split data into train, validation, and test sets\n",
    "X_train, X_val_test, y_train, y_val_test = train_test_split(X, y, test_size=0.3, random_state=42)\n",
    "X_val, X_test, y_val, y_test = train_test_split(X_val_test, y_val_test, test_size=0.5, random_state=42)\n"
   ]
  },
  {
   "cell_type": "code",
   "execution_count": 4,
   "metadata": {},
   "outputs": [],
   "source": [
    "def objective(trial):\n",
    "    # Define search space for hyperparameters\n",
    "    num_layers = trial.suggest_int('num_layers', 1, 3)\n",
    "    num_units = trial.suggest_int('num_units', 32, 256)\n",
    "    learning_rate = trial.suggest_loguniform('learning_rate', 1e-4, 1e-2)\n",
    "    \n",
    "    # Build LSTM model\n",
    "    model = Sequential()\n",
    "    for i in range(num_layers):\n",
    "        if i == 0:\n",
    "            model.add(LSTM(num_units, activation='relu', input_shape=(X_train.shape[1], X_train.shape[2]), return_sequences=True))\n",
    "        elif i == num_layers - 1:\n",
    "            model.add(LSTM(num_units, activation='relu'))\n",
    "        else:\n",
    "            model.add(LSTM(num_units, activation='relu', return_sequences=True))\n",
    "    \n",
    "    model.add(Dense(1, activation='sigmoid'))  # 1 output neuron for binary classification\n",
    "    \n",
    "    # Compile model\n",
    "    model.compile(optimizer=tf.keras.optimizers.Adam(learning_rate=learning_rate),\n",
    "                  loss='binary_crossentropy',\n",
    "                  metrics=['accuracy'])\n",
    "    \n",
    "    # Define EarlyStopping callback\n",
    "    early_stopping = EarlyStopping(monitor='val_loss', patience=5, restore_best_weights=True)\n",
    "    \n",
    "    # Train model with early stopping\n",
    "    model.fit(X_train, y_train, epochs=50, batch_size=32, verbose=0, validation_data=(X_val, y_val), callbacks=[early_stopping])\n",
    "    \n",
    "    # Evaluate model on validation set\n",
    "    val_loss, val_acc = model.evaluate(X_val, y_val, verbose=0)\n",
    "    \n",
    "    return val_acc\n",
    "\n"
   ]
  },
  {
   "cell_type": "code",
   "execution_count": 5,
   "metadata": {},
   "outputs": [
    {
     "name": "stderr",
     "output_type": "stream",
     "text": [
      "[I 2024-05-24 12:53:05,013] A new study created in memory with name: no-name-67578c60-7d91-4920-a085-5cea5f063c72\n"
     ]
    },
    {
     "data": {
      "application/vnd.jupyter.widget-view+json": {
       "model_id": "0761a504bd8d43de87b26407955c8f89",
       "version_major": 2,
       "version_minor": 0
      },
      "text/plain": [
       "  0%|          | 0/25 [00:00<?, ?it/s]"
      ]
     },
     "metadata": {},
     "output_type": "display_data"
    },
    {
     "name": "stderr",
     "output_type": "stream",
     "text": [
      "C:\\Users\\byomo\\AppData\\Local\\Temp\\ipykernel_19340\\1809393793.py:5: FutureWarning: suggest_loguniform has been deprecated in v3.0.0. This feature will be removed in v6.0.0. See https://github.com/optuna/optuna/releases/tag/v3.0.0. Use suggest_float(..., log=True) instead.\n",
      "  learning_rate = trial.suggest_loguniform('learning_rate', 1e-4, 1e-2)\n"
     ]
    },
    {
     "name": "stdout",
     "output_type": "stream",
     "text": [
      "[I 2024-05-24 12:53:11,351] Trial 0 finished with value: 0.8985507488250732 and parameters: {'num_layers': 2, 'num_units': 77, 'learning_rate': 0.0045229742288453965}. Best is trial 0 with value: 0.8985507488250732.\n",
      "[I 2024-05-24 12:53:20,701] Trial 1 finished with value: 0.8478260636329651 and parameters: {'num_layers': 2, 'num_units': 105, 'learning_rate': 0.00013028757952622522}. Best is trial 0 with value: 0.8985507488250732.\n",
      "[I 2024-05-24 12:53:30,755] Trial 2 finished with value: 0.9130434989929199 and parameters: {'num_layers': 3, 'num_units': 222, 'learning_rate': 0.003963376770715911}. Best is trial 2 with value: 0.9130434989929199.\n",
      "[I 2024-05-24 12:53:36,853] Trial 3 finished with value: 0.9057971239089966 and parameters: {'num_layers': 1, 'num_units': 61, 'learning_rate': 0.002192823145156753}. Best is trial 2 with value: 0.9130434989929199.\n",
      "[I 2024-05-24 12:53:44,294] Trial 4 finished with value: 0.9202898740768433 and parameters: {'num_layers': 3, 'num_units': 127, 'learning_rate': 0.0031316454524871404}. Best is trial 4 with value: 0.9202898740768433.\n",
      "[I 2024-05-24 12:53:50,453] Trial 5 finished with value: 0.8840579986572266 and parameters: {'num_layers': 1, 'num_units': 171, 'learning_rate': 0.0016327966878633613}. Best is trial 4 with value: 0.9202898740768433.\n",
      "[I 2024-05-24 12:53:57,641] Trial 6 finished with value: 0.9130434989929199 and parameters: {'num_layers': 2, 'num_units': 144, 'learning_rate': 0.0006315834366412978}. Best is trial 4 with value: 0.9202898740768433.\n",
      "[I 2024-05-24 12:54:01,783] Trial 7 finished with value: 0.9130434989929199 and parameters: {'num_layers': 1, 'num_units': 198, 'learning_rate': 0.0036334543653940552}. Best is trial 4 with value: 0.9202898740768433.\n",
      "[I 2024-05-24 12:54:07,657] Trial 8 finished with value: 0.8913043737411499 and parameters: {'num_layers': 1, 'num_units': 168, 'learning_rate': 0.0015762954858039348}. Best is trial 4 with value: 0.9202898740768433.\n",
      "[I 2024-05-24 12:54:11,262] Trial 9 finished with value: 0.8478260636329651 and parameters: {'num_layers': 1, 'num_units': 91, 'learning_rate': 0.0019034680875086338}. Best is trial 4 with value: 0.9202898740768433.\n",
      "[I 2024-05-24 12:54:21,677] Trial 10 finished with value: 0.9130434989929199 and parameters: {'num_layers': 3, 'num_units': 127, 'learning_rate': 0.0005681737363458849}. Best is trial 4 with value: 0.9202898740768433.\n",
      "[I 2024-05-24 12:54:30,759] Trial 11 finished with value: 0.8768116235733032 and parameters: {'num_layers': 3, 'num_units': 254, 'learning_rate': 0.009837674876301317}. Best is trial 4 with value: 0.9202898740768433.\n",
      "[I 2024-05-24 12:54:40,865] Trial 12 finished with value: 0.9130434989929199 and parameters: {'num_layers': 3, 'num_units': 235, 'learning_rate': 0.005539997802244538}. Best is trial 4 with value: 0.9202898740768433.\n",
      "[I 2024-05-24 12:54:46,921] Trial 13 finished with value: 0.8985507488250732 and parameters: {'num_layers': 3, 'num_units': 38, 'learning_rate': 0.009784825950338366}. Best is trial 4 with value: 0.9202898740768433.\n",
      "[I 2024-05-24 12:54:58,111] Trial 14 finished with value: 0.9202898740768433 and parameters: {'num_layers': 3, 'num_units': 208, 'learning_rate': 0.0007588335910447176}. Best is trial 4 with value: 0.9202898740768433.\n",
      "[I 2024-05-24 12:55:12,889] Trial 15 finished with value: 0.8840579986572266 and parameters: {'num_layers': 3, 'num_units': 188, 'learning_rate': 0.00020925242685689295}. Best is trial 4 with value: 0.9202898740768433.\n",
      "[I 2024-05-24 12:55:23,934] Trial 16 finished with value: 0.8913043737411499 and parameters: {'num_layers': 2, 'num_units': 118, 'learning_rate': 0.0007223926594000032}. Best is trial 4 with value: 0.9202898740768433.\n",
      "[I 2024-05-24 12:55:38,182] Trial 17 finished with value: 0.8985507488250732 and parameters: {'num_layers': 3, 'num_units': 153, 'learning_rate': 0.00030903687563789845}. Best is trial 4 with value: 0.9202898740768433.\n",
      "[I 2024-05-24 12:55:45,781] Trial 18 finished with value: 0.9057971239089966 and parameters: {'num_layers': 2, 'num_units': 207, 'learning_rate': 0.0010442293627284628}. Best is trial 4 with value: 0.9202898740768433.\n",
      "[I 2024-05-24 12:55:59,085] Trial 19 finished with value: 0.8985507488250732 and parameters: {'num_layers': 3, 'num_units': 132, 'learning_rate': 0.0003060568926797335}. Best is trial 4 with value: 0.9202898740768433.\n",
      "[I 2024-05-24 12:56:07,979] Trial 20 finished with value: 0.8985507488250732 and parameters: {'num_layers': 2, 'num_units': 180, 'learning_rate': 0.0010630674154591035}. Best is trial 4 with value: 0.9202898740768433.\n",
      "[I 2024-05-24 12:56:17,277] Trial 21 finished with value: 0.9130434989929199 and parameters: {'num_layers': 3, 'num_units': 219, 'learning_rate': 0.0029876965746439103}. Best is trial 4 with value: 0.9202898740768433.\n",
      "[I 2024-05-24 12:56:26,797] Trial 22 finished with value: 0.9057971239089966 and parameters: {'num_layers': 3, 'num_units': 226, 'learning_rate': 0.0030038263521796507}. Best is trial 4 with value: 0.9202898740768433.\n",
      "[I 2024-05-24 12:56:36,865] Trial 23 finished with value: 0.9057971239089966 and parameters: {'num_layers': 3, 'num_units': 251, 'learning_rate': 0.005324766383772481}. Best is trial 4 with value: 0.9202898740768433.\n",
      "[I 2024-05-24 12:56:44,176] Trial 24 finished with value: 0.8840579986572266 and parameters: {'num_layers': 3, 'num_units': 154, 'learning_rate': 0.0074089342539952075}. Best is trial 4 with value: 0.9202898740768433.\n"
     ]
    }
   ],
   "source": [
    "# Run Optuna optimization\n",
    "study = optuna.create_study(direction='maximize')\n",
    "study.optimize(objective, n_trials=25, show_progress_bar=True)\n",
    "\n",
    "# Get best hyperparameters\n",
    "best_params = study.best_params\n",
    "\n"
   ]
  },
  {
   "cell_type": "code",
   "execution_count": null,
   "metadata": {},
   "outputs": [],
   "source": []
  },
  {
   "cell_type": "code",
   "execution_count": 6,
   "metadata": {},
   "outputs": [
    {
     "name": "stdout",
     "output_type": "stream",
     "text": [
      "Epoch 1/30\n",
      "14/14 [==============================] - 4s 49ms/step - loss: 0.6752 - accuracy: 0.6978 - val_loss: 0.6000 - val_accuracy: 0.8551\n",
      "Epoch 2/30\n",
      "14/14 [==============================] - 0s 11ms/step - loss: 0.4610 - accuracy: 0.8349 - val_loss: 0.3815 - val_accuracy: 0.8406\n",
      "Epoch 3/30\n",
      "14/14 [==============================] - 0s 18ms/step - loss: 0.3746 - accuracy: 0.8442 - val_loss: 0.3507 - val_accuracy: 0.8623\n",
      "Epoch 4/30\n",
      "14/14 [==============================] - 0s 11ms/step - loss: 0.3546 - accuracy: 0.8645 - val_loss: 0.3407 - val_accuracy: 0.8623\n",
      "Epoch 5/30\n",
      "14/14 [==============================] - 0s 11ms/step - loss: 0.3223 - accuracy: 0.8629 - val_loss: 0.3153 - val_accuracy: 0.8841\n",
      "Epoch 6/30\n",
      "14/14 [==============================] - 0s 11ms/step - loss: 0.3104 - accuracy: 0.8645 - val_loss: 0.3327 - val_accuracy: 0.8623\n",
      "Epoch 7/30\n",
      "14/14 [==============================] - 0s 11ms/step - loss: 0.3081 - accuracy: 0.8645 - val_loss: 0.2937 - val_accuracy: 0.8768\n",
      "Epoch 8/30\n",
      "14/14 [==============================] - 0s 11ms/step - loss: 0.3122 - accuracy: 0.8676 - val_loss: 0.3103 - val_accuracy: 0.8623\n",
      "Epoch 9/30\n",
      "14/14 [==============================] - 0s 12ms/step - loss: 0.2905 - accuracy: 0.8754 - val_loss: 0.2891 - val_accuracy: 0.8986\n",
      "Epoch 10/30\n",
      "14/14 [==============================] - 0s 12ms/step - loss: 0.2828 - accuracy: 0.8754 - val_loss: 0.3415 - val_accuracy: 0.8551\n",
      "Epoch 11/30\n",
      "14/14 [==============================] - 0s 11ms/step - loss: 0.2829 - accuracy: 0.8738 - val_loss: 0.2822 - val_accuracy: 0.8986\n",
      "Epoch 12/30\n",
      "14/14 [==============================] - 0s 11ms/step - loss: 0.2725 - accuracy: 0.8941 - val_loss: 0.2906 - val_accuracy: 0.8696\n",
      "Epoch 13/30\n",
      "14/14 [==============================] - 0s 12ms/step - loss: 0.2754 - accuracy: 0.8863 - val_loss: 0.3256 - val_accuracy: 0.8623\n",
      "Epoch 14/30\n",
      "14/14 [==============================] - 0s 12ms/step - loss: 0.2547 - accuracy: 0.8941 - val_loss: 0.3015 - val_accuracy: 0.8913\n",
      "Epoch 15/30\n",
      "14/14 [==============================] - 0s 12ms/step - loss: 0.2455 - accuracy: 0.9019 - val_loss: 0.3276 - val_accuracy: 0.8696\n",
      "Epoch 16/30\n",
      "14/14 [==============================] - 0s 11ms/step - loss: 0.2377 - accuracy: 0.8988 - val_loss: 0.4080 - val_accuracy: 0.8696\n",
      "Epoch 17/30\n",
      "14/14 [==============================] - 0s 12ms/step - loss: 0.2764 - accuracy: 0.8863 - val_loss: 0.2909 - val_accuracy: 0.8986\n",
      "Epoch 18/30\n",
      "14/14 [==============================] - 0s 12ms/step - loss: 0.2356 - accuracy: 0.9003 - val_loss: 0.3259 - val_accuracy: 0.8623\n",
      "Epoch 19/30\n",
      "14/14 [==============================] - 0s 12ms/step - loss: 0.2258 - accuracy: 0.9019 - val_loss: 0.3584 - val_accuracy: 0.8913\n",
      "Epoch 20/30\n",
      "14/14 [==============================] - 0s 13ms/step - loss: 0.2100 - accuracy: 0.9159 - val_loss: 0.4037 - val_accuracy: 0.8768\n",
      "Epoch 21/30\n",
      "14/14 [==============================] - 0s 22ms/step - loss: 0.1999 - accuracy: 0.9097 - val_loss: 0.4641 - val_accuracy: 0.8913\n",
      "Epoch 22/30\n",
      "14/14 [==============================] - 0s 12ms/step - loss: 0.1929 - accuracy: 0.9190 - val_loss: 0.5392 - val_accuracy: 0.8478\n",
      "Epoch 23/30\n",
      "14/14 [==============================] - 0s 14ms/step - loss: 0.2101 - accuracy: 0.9034 - val_loss: 0.5253 - val_accuracy: 0.8696\n",
      "Epoch 24/30\n",
      "14/14 [==============================] - 0s 12ms/step - loss: 0.1957 - accuracy: 0.9174 - val_loss: 0.4270 - val_accuracy: 0.8551\n",
      "Epoch 25/30\n",
      "14/14 [==============================] - 0s 13ms/step - loss: 0.1811 - accuracy: 0.9237 - val_loss: 0.4542 - val_accuracy: 0.8913\n",
      "Epoch 26/30\n",
      "14/14 [==============================] - 0s 11ms/step - loss: 0.1687 - accuracy: 0.9283 - val_loss: 0.4160 - val_accuracy: 0.8696\n",
      "Epoch 27/30\n",
      "14/14 [==============================] - 0s 12ms/step - loss: 0.1540 - accuracy: 0.9330 - val_loss: 0.5917 - val_accuracy: 0.8478\n",
      "Epoch 28/30\n",
      "14/14 [==============================] - 0s 12ms/step - loss: 0.1392 - accuracy: 0.9346 - val_loss: 0.7176 - val_accuracy: 0.8478\n",
      "Epoch 29/30\n",
      "14/14 [==============================] - 0s 12ms/step - loss: 0.1278 - accuracy: 0.9393 - val_loss: 0.8750 - val_accuracy: 0.8333\n",
      "Epoch 30/30\n",
      "14/14 [==============================] - 0s 11ms/step - loss: 0.1212 - accuracy: 0.9439 - val_loss: 0.9668 - val_accuracy: 0.8406\n",
      "Test Accuracy: 0.8768116235733032\n",
      "5/5 [==============================] - 0s 3ms/step\n"
     ]
    }
   ],
   "source": [
    "# Train final model with best hyperparameters\n",
    "final_model = Sequential()\n",
    "for i in range(best_params['num_layers']):\n",
    "    if i == 0:\n",
    "        final_model.add(LSTM(best_params['num_units'], activation='relu', input_shape=(X_train.shape[1], X_train.shape[2]), return_sequences=True))\n",
    "    elif i == best_params['num_layers'] - 1:\n",
    "        final_model.add(LSTM(best_params['num_units'], activation='relu'))\n",
    "    else:\n",
    "        final_model.add(LSTM(best_params['num_units'], activation='relu', return_sequences=True))\n",
    "\n",
    "final_model.add(Dense(1, activation='sigmoid'))  # 1 output neuron for binary classification\n",
    "\n",
    "final_model.compile(optimizer=tf.keras.optimizers.Adam(learning_rate=best_params['learning_rate']),\n",
    "                     loss='binary_crossentropy',\n",
    "                     metrics=['accuracy'])\n",
    "\n",
    "final_model.fit(X_train, y_train, epochs=30, batch_size=48, verbose=1, validation_data=(X_val, y_val))\n",
    "\n",
    "# Evaluate final model on test set\n",
    "test_loss, test_acc = final_model.evaluate(X_test, y_test, verbose=0)\n",
    "print(\"Test Accuracy:\", test_acc)\n",
    "\n",
    "# Predict on test set\n",
    "y_pred_probs = final_model.predict(X_test)\n",
    "y_pred = np.round(y_pred_probs).astype(int)"
   ]
  },
  {
   "cell_type": "code",
   "execution_count": 7,
   "metadata": {},
   "outputs": [
    {
     "name": "stdout",
     "output_type": "stream",
     "text": [
      "Accuracy: 0.8768115942028986\n",
      "Precision: 0.9230769230769231\n",
      "Recall: 0.8674698795180723\n",
      "F1 Score: 0.8944099378881988\n",
      "ROC AUC Score: 0.9320920043811609\n"
     ]
    }
   ],
   "source": [
    "# Calculate additional performance metrics\n",
    "precision = precision_score(y_test, y_pred, average='binary')\n",
    "recall = recall_score(y_test, y_pred, average='binary')\n",
    "accuracy= accuracy_score(y_test, y_pred)\n",
    "roc_auc = roc_auc_score(y_test, y_pred_probs)\n",
    "f1 = f1_score(y_test, y_pred, average='binary')\n",
    "print(\"Accuracy:\", accuracy)\n",
    "print(\"Precision:\", precision)\n",
    "print(\"Recall:\", recall)\n",
    "print(\"F1 Score:\", f1)\n",
    "print(\"ROC AUC Score:\", roc_auc)"
   ]
  },
  {
   "cell_type": "code",
   "execution_count": 8,
   "metadata": {},
   "outputs": [
    {
     "data": {
      "image/png": "[encoded data removed]",
      "text/plain": [
       "<Figure size 800x600 with 2 Axes>"
      ]
     },
     "metadata": {},
     "output_type": "display_data"
    }
   ],
   "source": [
    "# Plot the confusion matrix using seaborn for better visualization\n",
    "conf_matrix = confusion_matrix(y_test, y_pred)\n",
    "plt.figure(figsize=(8, 6))\n",
    "sns.heatmap(conf_matrix/np.sum(conf_matrix), annot=True, fmt='.2%', cmap='Blues', xticklabels=['No Disease', 'Disease'], yticklabels=['No Disease', 'Disease'])\n",
    "plt.xlabel('Predicted')\n",
    "plt.ylabel('True')\n",
    "plt.title('Confusion Matrix')\n",
    "plt.show()\n"
   ]
  },
  {
   "cell_type": "code",
   "execution_count": 9,
   "metadata": {},
   "outputs": [
    {
     "name": "stdout",
     "output_type": "stream",
     "text": [
      "              precision    recall  f1-score   support\n",
      "\n",
      "           0       0.82      0.89      0.85        55\n",
      "           1       0.92      0.87      0.89        83\n",
      "\n",
      "    accuracy                           0.88       138\n",
      "   macro avg       0.87      0.88      0.87       138\n",
      "weighted avg       0.88      0.88      0.88       138\n",
      "\n"
     ]
    }
   ],
   "source": [
    "print(classification_report(y_test, y_pred))"
   ]
  },
  {
   "cell_type": "markdown",
   "metadata": {},
   "source": [
    "## Saving the Model"
   ]
  },
  {
   "cell_type": "code",
   "execution_count": 10,
   "metadata": {},
   "outputs": [],
   "source": [
    "'''# Save the model\n",
    "final_model.save('./models/LSTM.h5')'''\n"
   ]
  },
  {
   "cell_type": "code",
   "execution_count": null,
   "metadata": {},
   "outputs": [],
   "source": [
    "import optuna\n",
    "from sklearn.preprocessing import LabelEncoder, StandardScaler\n",
    "from sklearn.model_selection import train_test_split\n",
    "from tensorflow.keras.models import Sequential\n",
    "from tensorflow.keras.layers import Dense, GRU\n",
    "from tensorflow.keras.callbacks import EarlyStopping\n",
    "import tensorflow as tf\n",
    "import numpy as np\n",
    "from sklearn.metrics import precision_score, recall_score, confusion_matrix\n",
    "import pandas as pd\n",
    "import matplotlib.pyplot as plt\n",
    "import seaborn as sns\n",
    "from sklearn.metrics import confusion_matrix, precision_score, recall_score, f1_score, accuracy_score, roc_auc_score\n",
    "from sklearn.metrics import classification_report\n"
   ]
  },
  {
   "cell_type": "code",
   "execution_count": null,
   "metadata": {},
   "outputs": [],
   "source": [
    "import optuna\n",
    "from sklearn.preprocessing import LabelEncoder, StandardScaler\n",
    "from sklearn.model_selection import train_test_split\n",
    "from tensorflow.keras.models import Sequential\n",
    "from tensorflow.keras.layers import Dense, GRU\n",
    "from tensorflow.keras.callbacks import EarlyStopping\n",
    "import tensorflow as tf\n",
    "import numpy as np\n",
    "from sklearn.metrics import precision_score, recall_score, confusion_matrix\n",
    "import pandas as pd\n",
    "import matplotlib.pyplot as plt\n",
    "import seaborn as sns\n",
    "from sklearn.metrics import confusion_matrix, precision_score, recall_score, f1_score, accuracy_score, roc_auc_score\n",
    "from sklearn.metrics import classification_report\n"
   ]
  },
  {
   "cell_type": "code",
   "execution_count": null,
   "metadata": {},
   "outputs": [],
   "source": [
    "import optuna\n",
    "from sklearn.preprocessing import LabelEncoder, StandardScaler\n",
    "from sklearn.model_selection import train_test_split\n",
    "from tensorflow.keras.models import Sequential\n",
    "from tensorflow.keras.layers import Dense, GRU\n",
    "from tensorflow.keras.callbacks import EarlyStopping\n",
    "import tensorflow as tf\n",
    "import numpy as np\n",
    "from sklearn.metrics import precision_score, recall_score, confusion_matrix\n",
    "import pandas as pd\n",
    "import matplotlib.pyplot as plt\n",
    "import seaborn as sns\n",
    "from sklearn.metrics import confusion_matrix, precision_score, recall_score, f1_score, accuracy_score, roc_auc_score\n",
    "from sklearn.metrics import classification_report\n"
   ]
  }
 ],
 "metadata": {
  "kernelspec": {
   "display_name": "Python 3",
   "language": "python",
   "name": "python3"
  },
  "language_info": {
   "codemirror_mode": {
    "name": "ipython",
    "version": 3
   },
   "file_extension": ".py",
   "mimetype": "text/x-python",
   "name": "python",
   "nbconvert_exporter": "python",
   "pygments_lexer": "ipython3",
   "version": "3.11.4"
  }
 },
 "nbformat": 4,
 "nbformat_minor": 2
}
