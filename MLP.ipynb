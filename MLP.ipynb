{
 "cells": [
  {
   "cell_type": "code",
   "execution_count": 1,
   "metadata": {},
   "outputs": [],
   "source": [
    "import pandas as pd\n",
    "import numpy as np\n",
    "import optuna\n",
    "import tensorflow as tf\n",
    "from tensorflow.keras.models import Sequential\n",
    "from tensorflow.keras.layers import Dense\n",
    "from sklearn.model_selection import train_test_split\n",
    "from sklearn.datasets import load_iris\n",
    "from sklearn.metrics import accuracy_score, precision_score, recall_score, confusion_matrix\n",
    "from tensorflow.keras.callbacks import EarlyStopping\n",
    "from sklearn.preprocessing import LabelEncoder, StandardScaler\n",
    "import matplotlib.pyplot as plt\n",
    "import seaborn as sns\n",
    "from sklearn.metrics import confusion_matrix, precision_score, recall_score, f1_score, accuracy_score, roc_auc_score\n",
    "from sklearn.metrics import classification_report"
   ]
  },
  {
   "cell_type": "code",
   "execution_count": 2,
   "metadata": {},
   "outputs": [],
   "source": [
    "df=pd.read_csv(\"./dataset/heart.csv\")"
   ]
  },
  {
   "cell_type": "code",
   "execution_count": 3,
   "metadata": {},
   "outputs": [],
   "source": [
    "# Encode categorical features\n",
    "label_encoder = LabelEncoder()\n",
    "categorical_cols = ['Sex', 'ChestPainType', 'FastingBS', 'RestingECG', 'ExerciseAngina', 'ST_Slope']\n",
    "for col in categorical_cols:\n",
    "    df[col] = label_encoder.fit_transform(df[col])"
   ]
  },
  {
   "cell_type": "code",
   "execution_count": 4,
   "metadata": {},
   "outputs": [],
   "source": [
    "# Split the data into features (X) and target variable (y)\n",
    "X = df.drop('HeartDisease', axis=1)\n",
    "y = df['HeartDisease']\n",
    "\n",
    "# Standardize features\n",
    "scaler = StandardScaler()\n",
    "X = scaler.fit_transform(X)\n",
    "\n",
    "# Split data into train, validation, and test sets\n",
    "X_train, X_val_test, y_train, y_val_test = train_test_split(X, y, test_size=0.3, random_state=42)\n",
    "X_val, X_test, y_val, y_test = train_test_split(X_val_test, y_val_test, test_size=0.5, random_state=42)\n",
    "\n"
   ]
  },
  {
   "cell_type": "code",
   "execution_count": 5,
   "metadata": {},
   "outputs": [],
   "source": [
    "\n",
    "def objective(trial):\n",
    "    # Define search space for hyperparameters\n",
    "    num_layers = trial.suggest_int('num_layers', 2, 4)\n",
    "    num_units = trial.suggest_int('num_units', 16, 128)\n",
    "    learning_rate = trial.suggest_loguniform('learning_rate', 1e-3, 7e-3)\n",
    "    \n",
    "    # Build MLP model\n",
    "    model = Sequential()\n",
    "    model.add(Dense(num_units, activation='relu', input_shape=(X_train.shape[1],)))\n",
    "    for _ in range(num_layers - 1):\n",
    "        model.add(Dense(num_units, activation='relu'))\n",
    "    model.add(Dense(2, activation='softmax'))  # 2 output classes for this dataset\n",
    "    \n",
    "    # Compile model\n",
    "    model.compile(optimizer=tf.keras.optimizers.Adam(learning_rate=learning_rate),\n",
    "                  loss='sparse_categorical_crossentropy',\n",
    "                  metrics=['accuracy'])\n",
    "    \n",
    "    # Define EarlyStopping callback\n",
    "    early_stopping = EarlyStopping(monitor='val_loss', patience=5, restore_best_weights=True)\n",
    "    \n",
    "    # Train model with early stopping\n",
    "    model.fit(X_train, y_train, epochs=50, batch_size=32, verbose=0, validation_data=(X_val, y_val), callbacks=[early_stopping])\n",
    "    \n",
    "    # Evaluate model on validation set\n",
    "    val_loss, val_acc = model.evaluate(X_val, y_val, verbose=0)\n",
    "    \n",
    "    return val_acc\n",
    "\n"
   ]
  },
  {
   "cell_type": "code",
   "execution_count": 6,
   "metadata": {},
   "outputs": [
    {
     "name": "stderr",
     "output_type": "stream",
     "text": [
      "[I 2024-05-23 17:59:52,298] A new study created in memory with name: no-name-76932c0c-0bfc-4410-ac62-2508584feb2f\n",
      "C:\\Users\\byomo\\AppData\\Local\\Temp\\ipykernel_17744\\4010384410.py:5: FutureWarning: suggest_loguniform has been deprecated in v3.0.0. This feature will be removed in v6.0.0. See https://github.com/optuna/optuna/releases/tag/v3.0.0. Use suggest_float(..., log=True) instead.\n",
      "  learning_rate = trial.suggest_loguniform('learning_rate', 1e-3, 7e-3)\n",
      "[I 2024-05-23 17:59:54,424] Trial 0 finished with value: 0.9130434989929199 and parameters: {'num_layers': 2, 'num_units': 99, 'learning_rate': 0.004154253091731497}. Best is trial 0 with value: 0.9130434989929199.\n",
      "[I 2024-05-23 17:59:56,275] Trial 1 finished with value: 0.8840579986572266 and parameters: {'num_layers': 4, 'num_units': 104, 'learning_rate': 0.0015809253829792422}. Best is trial 0 with value: 0.9130434989929199.\n",
      "[I 2024-05-23 17:59:57,860] Trial 2 finished with value: 0.9130434989929199 and parameters: {'num_layers': 3, 'num_units': 99, 'learning_rate': 0.004977632782382513}. Best is trial 0 with value: 0.9130434989929199.\n",
      "[I 2024-05-23 17:59:59,607] Trial 3 finished with value: 0.9202898740768433 and parameters: {'num_layers': 3, 'num_units': 128, 'learning_rate': 0.0031577066129636596}. Best is trial 3 with value: 0.9202898740768433.\n",
      "[I 2024-05-23 18:00:01,395] Trial 4 finished with value: 0.9057971239089966 and parameters: {'num_layers': 3, 'num_units': 125, 'learning_rate': 0.0015069459127267128}. Best is trial 3 with value: 0.9202898740768433.\n",
      "[I 2024-05-23 18:00:03,183] Trial 5 finished with value: 0.9130434989929199 and parameters: {'num_layers': 4, 'num_units': 67, 'learning_rate': 0.006540719406337029}. Best is trial 3 with value: 0.9202898740768433.\n",
      "[I 2024-05-23 18:00:05,083] Trial 6 finished with value: 0.8840579986572266 and parameters: {'num_layers': 2, 'num_units': 72, 'learning_rate': 0.0035067249947755546}. Best is trial 3 with value: 0.9202898740768433.\n",
      "[I 2024-05-23 18:00:06,654] Trial 7 finished with value: 0.9202898740768433 and parameters: {'num_layers': 3, 'num_units': 89, 'learning_rate': 0.005039466811586766}. Best is trial 3 with value: 0.9202898740768433.\n",
      "[I 2024-05-23 18:00:08,656] Trial 8 finished with value: 0.9202898740768433 and parameters: {'num_layers': 4, 'num_units': 71, 'learning_rate': 0.0018316663297802522}. Best is trial 3 with value: 0.9202898740768433.\n",
      "[I 2024-05-23 18:00:10,771] Trial 9 finished with value: 0.8985507488250732 and parameters: {'num_layers': 2, 'num_units': 51, 'learning_rate': 0.002223898578341616}. Best is trial 3 with value: 0.9202898740768433.\n",
      "[I 2024-05-23 18:00:12,786] Trial 10 finished with value: 0.8840579986572266 and parameters: {'num_layers': 3, 'num_units': 30, 'learning_rate': 0.002779247793217426}. Best is trial 3 with value: 0.9202898740768433.\n",
      "[I 2024-05-23 18:00:14,585] Trial 11 finished with value: 0.9057971239089966 and parameters: {'num_layers': 3, 'num_units': 118, 'learning_rate': 0.0010054141826222622}. Best is trial 3 with value: 0.9202898740768433.\n",
      "[I 2024-05-23 18:00:16,067] Trial 12 finished with value: 0.8768116235733032 and parameters: {'num_layers': 3, 'num_units': 88, 'learning_rate': 0.00645767686077593}. Best is trial 3 with value: 0.9202898740768433.\n",
      "[I 2024-05-23 18:00:17,942] Trial 13 finished with value: 0.8768116235733032 and parameters: {'num_layers': 3, 'num_units': 17, 'learning_rate': 0.003192790073861907}. Best is trial 3 with value: 0.9202898740768433.\n",
      "[I 2024-05-23 18:00:19,669] Trial 14 finished with value: 0.9057971239089966 and parameters: {'num_layers': 2, 'num_units': 127, 'learning_rate': 0.004704134658080356}. Best is trial 3 with value: 0.9202898740768433.\n",
      "[I 2024-05-23 18:00:21,316] Trial 15 finished with value: 0.8550724387168884 and parameters: {'num_layers': 4, 'num_units': 88, 'learning_rate': 0.00392835767362615}. Best is trial 3 with value: 0.9202898740768433.\n",
      "[I 2024-05-23 18:00:23,315] Trial 16 finished with value: 0.8985507488250732 and parameters: {'num_layers': 3, 'num_units': 46, 'learning_rate': 0.0022539405155980493}. Best is trial 3 with value: 0.9202898740768433.\n",
      "[I 2024-05-23 18:00:25,037] Trial 17 finished with value: 0.9202898740768433 and parameters: {'num_layers': 4, 'num_units': 109, 'learning_rate': 0.005378239353700302}. Best is trial 3 with value: 0.9202898740768433.\n",
      "[I 2024-05-23 18:00:26,725] Trial 18 finished with value: 0.9057971239089966 and parameters: {'num_layers': 2, 'num_units': 87, 'learning_rate': 0.002944769794334238}. Best is trial 3 with value: 0.9202898740768433.\n",
      "[I 2024-05-23 18:00:28,463] Trial 19 finished with value: 0.8985507488250732 and parameters: {'num_layers': 3, 'num_units': 114, 'learning_rate': 0.002373622506289131}. Best is trial 3 with value: 0.9202898740768433.\n",
      "[I 2024-05-23 18:00:30,137] Trial 20 finished with value: 0.9057971239089966 and parameters: {'num_layers': 3, 'num_units': 77, 'learning_rate': 0.005695853796075271}. Best is trial 3 with value: 0.9202898740768433.\n",
      "[I 2024-05-23 18:00:32,583] Trial 21 finished with value: 0.9057971239089966 and parameters: {'num_layers': 4, 'num_units': 55, 'learning_rate': 0.0017884013416079791}. Best is trial 3 with value: 0.9202898740768433.\n",
      "[I 2024-05-23 18:00:35,697] Trial 22 finished with value: 0.9347826242446899 and parameters: {'num_layers': 4, 'num_units': 60, 'learning_rate': 0.0011448820693064816}. Best is trial 22 with value: 0.9347826242446899.\n",
      "[I 2024-05-23 18:00:38,009] Trial 23 finished with value: 0.9130434989929199 and parameters: {'num_layers': 4, 'num_units': 62, 'learning_rate': 0.0010525419735770494}. Best is trial 22 with value: 0.9347826242446899.\n",
      "[I 2024-05-23 18:00:41,018] Trial 24 finished with value: 0.8985507488250732 and parameters: {'num_layers': 3, 'num_units': 43, 'learning_rate': 0.001266162352561777}. Best is trial 22 with value: 0.9347826242446899.\n"
     ]
    }
   ],
   "source": [
    "# Run Optuna optimization\n",
    "study = optuna.create_study(direction='maximize')\n",
    "study.optimize(objective, n_trials=25, show_progress_bar=True)\n",
    "\n",
    "# Get best hyperparameters\n",
    "best_params = study.best_params"
   ]
  },
  {
   "cell_type": "code",
   "execution_count": 7,
   "metadata": {},
   "outputs": [
    {
     "name": "stdout",
     "output_type": "stream",
     "text": [
      "Epoch 1/15\n",
      "14/14 [==============================] - 1s 15ms/step - loss: 0.5760 - accuracy: 0.7601 - val_loss: 0.4273 - val_accuracy: 0.8406\n",
      "Epoch 2/15\n",
      "14/14 [==============================] - 0s 4ms/step - loss: 0.4010 - accuracy: 0.8380 - val_loss: 0.3590 - val_accuracy: 0.8406\n",
      "Epoch 3/15\n",
      "14/14 [==============================] - 0s 4ms/step - loss: 0.3585 - accuracy: 0.8536 - val_loss: 0.3520 - val_accuracy: 0.8623\n",
      "Epoch 4/15\n",
      "14/14 [==============================] - 0s 4ms/step - loss: 0.3411 - accuracy: 0.8614 - val_loss: 0.3348 - val_accuracy: 0.8623\n",
      "Epoch 5/15\n",
      "14/14 [==============================] - 0s 4ms/step - loss: 0.3252 - accuracy: 0.8676 - val_loss: 0.3413 - val_accuracy: 0.8478\n",
      "Epoch 6/15\n",
      "14/14 [==============================] - 0s 4ms/step - loss: 0.3019 - accuracy: 0.8707 - val_loss: 0.3125 - val_accuracy: 0.8913\n",
      "Epoch 7/15\n",
      "14/14 [==============================] - 0s 4ms/step - loss: 0.2915 - accuracy: 0.8832 - val_loss: 0.3127 - val_accuracy: 0.8841\n",
      "Epoch 8/15\n",
      "14/14 [==============================] - 0s 4ms/step - loss: 0.2768 - accuracy: 0.8863 - val_loss: 0.3086 - val_accuracy: 0.8913\n",
      "Epoch 9/15\n",
      "14/14 [==============================] - 0s 4ms/step - loss: 0.2663 - accuracy: 0.8956 - val_loss: 0.2812 - val_accuracy: 0.8913\n",
      "Epoch 10/15\n",
      "14/14 [==============================] - 0s 4ms/step - loss: 0.2542 - accuracy: 0.9034 - val_loss: 0.3253 - val_accuracy: 0.8623\n",
      "Epoch 11/15\n",
      "14/14 [==============================] - 0s 4ms/step - loss: 0.2476 - accuracy: 0.9019 - val_loss: 0.3035 - val_accuracy: 0.8696\n",
      "Epoch 12/15\n",
      "14/14 [==============================] - 0s 4ms/step - loss: 0.2288 - accuracy: 0.9128 - val_loss: 0.2813 - val_accuracy: 0.8841\n",
      "Epoch 13/15\n",
      "14/14 [==============================] - 0s 4ms/step - loss: 0.2138 - accuracy: 0.9174 - val_loss: 0.3097 - val_accuracy: 0.8551\n",
      "Epoch 14/15\n",
      "14/14 [==============================] - 0s 4ms/step - loss: 0.1968 - accuracy: 0.9206 - val_loss: 0.2911 - val_accuracy: 0.8768\n",
      "Epoch 15/15\n",
      "14/14 [==============================] - 0s 5ms/step - loss: 0.1839 - accuracy: 0.9299 - val_loss: 0.2964 - val_accuracy: 0.8696\n",
      "Test Accuracy: 0.9057971239089966\n",
      "5/5 [==============================] - 0s 1ms/step\n",
      "Precision: 0.9119762062941366\n",
      "Recall: 0.9057971014492754\n",
      "Model: \"sequential_25\"\n",
      "_________________________________________________________________\n",
      " Layer (type)                Output Shape              Param #   \n",
      "=================================================================\n",
      " dense_103 (Dense)           (None, 60)                720       \n",
      "                                                                 \n",
      " dense_104 (Dense)           (None, 60)                3660      \n",
      "                                                                 \n",
      " dense_105 (Dense)           (None, 60)                3660      \n",
      "                                                                 \n",
      " dense_106 (Dense)           (None, 60)                3660      \n",
      "                                                                 \n",
      " dense_107 (Dense)           (None, 2)                 122       \n",
      "                                                                 \n",
      "=================================================================\n",
      "Total params: 11,822\n",
      "Trainable params: 11,822\n",
      "Non-trainable params: 0\n",
      "_________________________________________________________________\n"
     ]
    }
   ],
   "source": [
    "# Train final model with best hyperparameters\n",
    "final_model = Sequential()\n",
    "final_model.add(Dense(best_params['num_units'], activation='relu', input_shape=(X_train.shape[1],)))\n",
    "for _ in range(best_params['num_layers'] - 1):\n",
    "    final_model.add(Dense(best_params['num_units'], activation='relu'))\n",
    "final_model.add(Dense(2, activation='softmax'))  # 2 output classes for this dataset\n",
    "\n",
    "final_model.compile(optimizer=tf.keras.optimizers.Adam(learning_rate=best_params['learning_rate']),\n",
    "                     loss='sparse_categorical_crossentropy',\n",
    "                     metrics=['accuracy'])\n",
    "\n",
    "final_model.fit(X_train, y_train, epochs=15, batch_size=48, verbose=1, validation_data=(X_val, y_val))\n",
    "\n",
    "# Evaluate final model on test set\n",
    "test_loss, test_acc = final_model.evaluate(X_test, y_test, verbose=0)\n",
    "print(\"Test Accuracy:\", test_acc)\n",
    "\n",
    "# Predict on test set\n",
    "y_pred_probs = final_model.predict(X_test)\n",
    "y_pred = np.argmax(y_pred_probs, axis=1)\n",
    "\n",
    "# Calculate additional performance metrics\n",
    "precision = precision_score(y_test, y_pred, average='weighted')\n",
    "recall = recall_score(y_test, y_pred, average='weighted')\n",
    "conf_matrix = confusion_matrix(y_test, y_pred)\n",
    "\n",
    "print(\"Precision:\", precision)\n",
    "print(\"Recall:\", recall)\n",
    "\n",
    "# Print model architecture\n",
    "final_model.summary()"
   ]
  },
  {
   "cell_type": "code",
   "execution_count": 8,
   "metadata": {},
   "outputs": [
    {
     "name": "stdout",
     "output_type": "stream",
     "text": [
      "Accuracy: 0.9057971014492754\n",
      "Precision: 0.9605263157894737\n",
      "Recall: 0.8795180722891566\n",
      "F1 Score: 0.9182389937106918\n"
     ]
    }
   ],
   "source": [
    "# Calculate additional performance metrics\n",
    "precision = precision_score(y_test, y_pred, average='binary')\n",
    "recall = recall_score(y_test, y_pred, average='binary')\n",
    "accuracy= accuracy_score(y_test, y_pred)\n",
    "\n",
    "f1 = f1_score(y_test, y_pred, average='binary')\n",
    "print(\"Accuracy:\", accuracy)\n",
    "print(\"Precision:\", precision)\n",
    "print(\"Recall:\", recall)\n",
    "print(\"F1 Score:\", f1)"
   ]
  },
  {
   "cell_type": "code",
   "execution_count": 9,
   "metadata": {},
   "outputs": [
    {
     "data": {
      "image/png": "[encoded data removed]",
      "text/plain": [
       "<Figure size 800x600 with 2 Axes>"
      ]
     },
     "metadata": {},
     "output_type": "display_data"
    }
   ],
   "source": [
    "# Plot the confusion matrix using seaborn for better visualization\n",
    "conf_matrix = confusion_matrix(y_test, y_pred)\n",
    "plt.figure(figsize=(8, 6))\n",
    "sns.heatmap(conf_matrix/np.sum(conf_matrix), annot=True, fmt='.2%', cmap='Blues', xticklabels=['No Disease', 'Disease'], yticklabels=['No Disease', 'Disease'])\n",
    "plt.xlabel('Predicted')\n",
    "plt.ylabel('True')\n",
    "plt.title('Confusion Matrix')\n",
    "plt.show()\n"
   ]
  },
  {
   "cell_type": "code",
   "execution_count": 10,
   "metadata": {},
   "outputs": [
    {
     "name": "stdout",
     "output_type": "stream",
     "text": [
      "              precision    recall  f1-score   support\n",
      "\n",
      "           0       0.84      0.95      0.89        55\n",
      "           1       0.96      0.88      0.92        83\n",
      "\n",
      "    accuracy                           0.91       138\n",
      "   macro avg       0.90      0.91      0.90       138\n",
      "weighted avg       0.91      0.91      0.91       138\n",
      "\n"
     ]
    }
   ],
   "source": [
    "print(classification_report(y_test, y_pred))"
   ]
  },
  {
   "cell_type": "markdown",
   "metadata": {},
   "source": [
    "## Saving the Model"
   ]
  },
  {
   "cell_type": "code",
   "execution_count": 11,
   "metadata": {},
   "outputs": [],
   "source": [
    "'''# Save the model\n",
    "final_model.save('./models/MLP.h5')'''\n"
   ]
  }
 ],
 "metadata": {
  "kernelspec": {
   "display_name": "Python 3",
   "language": "python",
   "name": "python3"
  },
  "language_info": {
   "codemirror_mode": {
    "name": "ipython",
    "version": 3
   },
   "file_extension": ".py",
   "mimetype": "text/x-python",
   "name": "python",
   "nbconvert_exporter": "python",
   "pygments_lexer": "ipython3",
   "version": "3.11.4"
  }
 },
 "nbformat": 4,
 "nbformat_minor": 2
}
