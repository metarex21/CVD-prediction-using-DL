{
 "cells": [
  {
   "cell_type": "code",
   "execution_count": 1,
   "metadata": {},
   "outputs": [],
   "source": [
    "import optuna\n",
    "from sklearn.preprocessing import LabelEncoder, StandardScaler\n",
    "from sklearn.model_selection import train_test_split\n",
    "from tensorflow.keras.models import Sequential\n",
    "from tensorflow.keras.layers import Dense, SimpleRNN\n",
    "from tensorflow.keras.callbacks import EarlyStopping\n",
    "import tensorflow as tf\n",
    "import numpy as np\n",
    "import pandas as pd\n",
    "import matplotlib.pyplot as plt\n",
    "import seaborn as sns\n",
    "from sklearn.metrics import confusion_matrix, precision_score, recall_score, f1_score, accuracy_score, roc_auc_score\n",
    "from sklearn.metrics import classification_report\n",
    "import io\n",
    "import logging"
   ]
  },
  {
   "cell_type": "code",
   "execution_count": 2,
   "metadata": {},
   "outputs": [],
   "source": [
    "\n",
    "# Load dataset\n",
    "df = pd.read_csv(\"./dataset/heart.csv\")\n"
   ]
  },
  {
   "cell_type": "code",
   "execution_count": 3,
   "metadata": {},
   "outputs": [],
   "source": [
    "\n",
    "# Encode categorical features\n",
    "label_encoder = LabelEncoder()\n",
    "categorical_cols = ['Sex', 'ChestPainType', 'FastingBS', 'RestingECG', 'ExerciseAngina', 'ST_Slope']\n",
    "for col in categorical_cols:\n",
    "    df[col] = label_encoder.fit_transform(df[col])"
   ]
  },
  {
   "cell_type": "code",
   "execution_count": 4,
   "metadata": {},
   "outputs": [],
   "source": [
    "\n",
    "# Split the data into features (X) and target variable (y)\n",
    "X = df.drop('HeartDisease', axis=1)\n",
    "y = df['HeartDisease']\n",
    "\n",
    "# Standardize features\n",
    "scaler = StandardScaler()\n",
    "X = scaler.fit_transform(X)\n"
   ]
  },
  {
   "cell_type": "code",
   "execution_count": 5,
   "metadata": {},
   "outputs": [],
   "source": [
    "\n",
    "# Reshape X for RNN input\n",
    "X = X.reshape((X.shape[0], 1, X.shape[1]))\n",
    "\n",
    "# Split data into train, validation, and test sets\n",
    "X_train, X_val_test, y_train, y_val_test = train_test_split(X, y, test_size=0.3, random_state=42)\n",
    "X_val, X_test, y_val, y_test = train_test_split(X_val_test, y_val_test, test_size=0.5, random_state=42)\n"
   ]
  },
  {
   "cell_type": "code",
   "execution_count": 6,
   "metadata": {},
   "outputs": [],
   "source": [
    "def objective(trial):\n",
    "    # Define search space for hyperparameters\n",
    "    num_layers = trial.suggest_int('num_layers', 1, 3)\n",
    "    num_units = trial.suggest_int('num_units', 32, 256)\n",
    "    learning_rate = trial.suggest_loguniform('learning_rate', 1e-4, 1e-2)\n",
    "    \n",
    "    # Build SimpleRNN model\n",
    "    model = Sequential()\n",
    "    for i in range(num_layers):\n",
    "        if i == 0:\n",
    "            model.add(SimpleRNN(num_units, activation='relu', input_shape=(X_train.shape[1], X_train.shape[2]), return_sequences=True))\n",
    "        elif i == num_layers - 1:\n",
    "            model.add(SimpleRNN(num_units, activation='relu'))\n",
    "        else:\n",
    "            model.add(SimpleRNN(num_units, activation='relu', return_sequences=True))\n",
    "    \n",
    "    model.add(Dense(1, activation='sigmoid'))  # 1 output neuron for binary classification\n",
    "    \n",
    "    # Compile model\n",
    "    model.compile(optimizer=tf.keras.optimizers.Adam(learning_rate=learning_rate),\n",
    "                  loss='binary_crossentropy',\n",
    "                  metrics=['accuracy'])\n",
    "    \n",
    "    # Define EarlyStopping callback\n",
    "    early_stopping = EarlyStopping(monitor='val_loss', patience=5, restore_best_weights=True)\n",
    "    \n",
    "    # Train model with early stopping\n",
    "    model.fit(X_train, y_train, epochs=50, batch_size=32, verbose=0, validation_data=(X_val, y_val), callbacks=[early_stopping])\n",
    "    \n",
    "    # Evaluate model on validation set\n",
    "    val_loss, val_acc = model.evaluate(X_val, y_val, verbose=0)\n",
    "    \n",
    "    return val_acc\n"
   ]
  },
  {
   "cell_type": "code",
   "execution_count": 7,
   "metadata": {},
   "outputs": [
    {
     "name": "stderr",
     "output_type": "stream",
     "text": [
      "[I 2024-05-23 17:01:57,232] A new study created in memory with name: no-name-17d1b725-a73b-4d14-86b0-c79af66dfb73\n"
     ]
    },
    {
     "data": {
      "application/vnd.jupyter.widget-view+json": {
       "model_id": "18a132fcc2b94b2c8514fe66c386bf7b",
       "version_major": 2,
       "version_minor": 0
      },
      "text/plain": [
       "  0%|          | 0/25 [00:00<?, ?it/s]"
      ]
     },
     "metadata": {},
     "output_type": "display_data"
    },
    {
     "name": "stderr",
     "output_type": "stream",
     "text": [
      "C:\\Users\\byomo\\AppData\\Local\\Temp\\ipykernel_1776\\2956133325.py:5: FutureWarning: suggest_loguniform has been deprecated in v3.0.0. This feature will be removed in v6.0.0. See https://github.com/optuna/optuna/releases/tag/v3.0.0. Use suggest_float(..., log=True) instead.\n",
      "  learning_rate = trial.suggest_loguniform('learning_rate', 1e-4, 1e-2)\n"
     ]
    },
    {
     "name": "stdout",
     "output_type": "stream",
     "text": [
      "[I 2024-05-23 17:02:02,676] Trial 0 finished with value: 0.9130434989929199 and parameters: {'num_layers': 3, 'num_units': 241, 'learning_rate': 0.0007131001971100229}. Best is trial 0 with value: 0.9130434989929199.\n",
      "[I 2024-05-23 17:02:07,421] Trial 1 finished with value: 0.8985507488250732 and parameters: {'num_layers': 3, 'num_units': 188, 'learning_rate': 0.002579442844990759}. Best is trial 0 with value: 0.9130434989929199.\n",
      "[I 2024-05-23 17:02:13,574] Trial 2 finished with value: 0.9057971239089966 and parameters: {'num_layers': 3, 'num_units': 95, 'learning_rate': 0.00035051598377212526}. Best is trial 0 with value: 0.9130434989929199.\n",
      "[I 2024-05-23 17:02:18,150] Trial 3 finished with value: 0.8985507488250732 and parameters: {'num_layers': 1, 'num_units': 238, 'learning_rate': 0.0014856940604273782}. Best is trial 0 with value: 0.9130434989929199.\n",
      "[I 2024-05-23 17:02:23,180] Trial 4 finished with value: 0.8985507488250732 and parameters: {'num_layers': 1, 'num_units': 118, 'learning_rate': 0.0011685814112064952}. Best is trial 0 with value: 0.9130434989929199.\n",
      "[I 2024-05-23 17:02:26,216] Trial 5 finished with value: 0.8913043737411499 and parameters: {'num_layers': 1, 'num_units': 216, 'learning_rate': 0.003550793177319271}. Best is trial 0 with value: 0.9130434989929199.\n",
      "[I 2024-05-23 17:02:34,560] Trial 6 finished with value: 0.8913043737411499 and parameters: {'num_layers': 3, 'num_units': 165, 'learning_rate': 0.00011304209505581576}. Best is trial 0 with value: 0.9130434989929199.\n",
      "[I 2024-05-23 17:02:39,167] Trial 7 finished with value: 0.8913043737411499 and parameters: {'num_layers': 2, 'num_units': 199, 'learning_rate': 0.0009990661068732098}. Best is trial 0 with value: 0.9130434989929199.\n",
      "[I 2024-05-23 17:02:45,139] Trial 8 finished with value: 0.9202898740768433 and parameters: {'num_layers': 2, 'num_units': 152, 'learning_rate': 0.0007638690347148593}. Best is trial 8 with value: 0.9202898740768433.\n",
      "[I 2024-05-23 17:02:52,982] Trial 9 finished with value: 0.8985507488250732 and parameters: {'num_layers': 3, 'num_units': 162, 'learning_rate': 0.00043817225583656}. Best is trial 8 with value: 0.9202898740768433.\n",
      "[I 2024-05-23 17:02:56,513] Trial 10 finished with value: 0.8695651888847351 and parameters: {'num_layers': 2, 'num_units': 56, 'learning_rate': 0.009743303354086437}. Best is trial 8 with value: 0.9202898740768433.\n",
      "[I 2024-05-23 17:03:04,202] Trial 11 finished with value: 0.8768116235733032 and parameters: {'num_layers': 2, 'num_units': 254, 'learning_rate': 0.00037853181335804903}. Best is trial 8 with value: 0.9202898740768433.\n",
      "[I 2024-05-23 17:03:10,294] Trial 12 finished with value: 0.9202898740768433 and parameters: {'num_layers': 2, 'num_units': 118, 'learning_rate': 0.0006321125194707542}. Best is trial 8 with value: 0.9202898740768433.\n",
      "[I 2024-05-23 17:03:18,195] Trial 13 finished with value: 0.8913043737411499 and parameters: {'num_layers': 2, 'num_units': 118, 'learning_rate': 0.00017631525410391523}. Best is trial 8 with value: 0.9202898740768433.\n",
      "[I 2024-05-23 17:03:22,277] Trial 14 finished with value: 0.9057971239089966 and parameters: {'num_layers': 2, 'num_units': 69, 'learning_rate': 0.0021403648392102717}. Best is trial 8 with value: 0.9202898740768433.\n",
      "[I 2024-05-23 17:03:28,858] Trial 15 finished with value: 0.9130434989929199 and parameters: {'num_layers': 2, 'num_units': 133, 'learning_rate': 0.000610307794536368}. Best is trial 8 with value: 0.9202898740768433.\n",
      "[I 2024-05-23 17:03:34,597] Trial 16 finished with value: 0.8405796885490417 and parameters: {'num_layers': 1, 'num_units': 33, 'learning_rate': 0.0002048015260769466}. Best is trial 8 with value: 0.9202898740768433.\n",
      "[I 2024-05-23 17:03:39,504] Trial 17 finished with value: 0.9275362491607666 and parameters: {'num_layers': 2, 'num_units': 93, 'learning_rate': 0.006232400732383616}. Best is trial 17 with value: 0.9275362491607666.\n",
      "[I 2024-05-23 17:03:43,907] Trial 18 finished with value: 0.9057971239089966 and parameters: {'num_layers': 1, 'num_units': 85, 'learning_rate': 0.00642795871366232}. Best is trial 17 with value: 0.9275362491607666.\n",
      "[I 2024-05-23 17:03:48,553] Trial 19 finished with value: 0.8840579986572266 and parameters: {'num_layers': 2, 'num_units': 172, 'learning_rate': 0.004362269628465571}. Best is trial 17 with value: 0.9275362491607666.\n",
      "[I 2024-05-23 17:03:52,791] Trial 20 finished with value: 0.9057971239089966 and parameters: {'num_layers': 2, 'num_units': 140, 'learning_rate': 0.009836159302597156}. Best is trial 17 with value: 0.9275362491607666.\n",
      "[I 2024-05-23 17:03:59,029] Trial 21 finished with value: 0.8913043737411499 and parameters: {'num_layers': 2, 'num_units': 100, 'learning_rate': 0.00082065250890219}. Best is trial 17 with value: 0.9275362491607666.\n",
      "[I 2024-05-23 17:04:04,832] Trial 22 finished with value: 0.8985507488250732 and parameters: {'num_layers': 2, 'num_units': 114, 'learning_rate': 0.0015651829712112202}. Best is trial 17 with value: 0.9275362491607666.\n",
      "[I 2024-05-23 17:04:12,490] Trial 23 finished with value: 0.8913043737411499 and parameters: {'num_layers': 2, 'num_units': 152, 'learning_rate': 0.000557643120003603}. Best is trial 17 with value: 0.9275362491607666.\n",
      "[I 2024-05-23 17:04:17,929] Trial 24 finished with value: 0.9057971239089966 and parameters: {'num_layers': 2, 'num_units': 72, 'learning_rate': 0.002296442549902626}. Best is trial 17 with value: 0.9275362491607666.\n"
     ]
    }
   ],
   "source": [
    "# Run Optuna optimization\n",
    "study = optuna.create_study(direction='maximize')\n",
    "study.optimize(objective, n_trials=25, show_progress_bar=True)\n",
    "\n",
    "# Get best hyperparameters\n",
    "best_params = study.best_params"
   ]
  },
  {
   "cell_type": "code",
   "execution_count": 8,
   "metadata": {},
   "outputs": [
    {
     "name": "stdout",
     "output_type": "stream",
     "text": [
      "Epoch 1/15\n",
      "14/14 [==============================] - 4s 35ms/step - loss: 0.4720 - accuracy: 0.8131 - val_loss: 0.3677 - val_accuracy: 0.8406\n",
      "Epoch 2/15\n",
      "14/14 [==============================] - 0s 5ms/step - loss: 0.3593 - accuracy: 0.8567 - val_loss: 0.3412 - val_accuracy: 0.8551\n",
      "Epoch 3/15\n",
      "14/14 [==============================] - 0s 5ms/step - loss: 0.3270 - accuracy: 0.8723 - val_loss: 0.3128 - val_accuracy: 0.8623\n",
      "Epoch 4/15\n",
      "14/14 [==============================] - 0s 5ms/step - loss: 0.3061 - accuracy: 0.8676 - val_loss: 0.2757 - val_accuracy: 0.9058\n",
      "Epoch 5/15\n",
      "14/14 [==============================] - 0s 6ms/step - loss: 0.2911 - accuracy: 0.8738 - val_loss: 0.2945 - val_accuracy: 0.8841\n",
      "Epoch 6/15\n",
      "14/14 [==============================] - 0s 5ms/step - loss: 0.2686 - accuracy: 0.8863 - val_loss: 0.2755 - val_accuracy: 0.9203\n",
      "Epoch 7/15\n",
      "14/14 [==============================] - 0s 6ms/step - loss: 0.2553 - accuracy: 0.8956 - val_loss: 0.3062 - val_accuracy: 0.8696\n",
      "Epoch 8/15\n",
      "14/14 [==============================] - 0s 5ms/step - loss: 0.2441 - accuracy: 0.8988 - val_loss: 0.2887 - val_accuracy: 0.8913\n",
      "Epoch 9/15\n",
      "14/14 [==============================] - 0s 5ms/step - loss: 0.2240 - accuracy: 0.9159 - val_loss: 0.2627 - val_accuracy: 0.9130\n",
      "Epoch 10/15\n",
      "14/14 [==============================] - 0s 5ms/step - loss: 0.2134 - accuracy: 0.9206 - val_loss: 0.2882 - val_accuracy: 0.9130\n",
      "Epoch 11/15\n",
      "14/14 [==============================] - 0s 5ms/step - loss: 0.2014 - accuracy: 0.9221 - val_loss: 0.3164 - val_accuracy: 0.9058\n",
      "Epoch 12/15\n",
      "14/14 [==============================] - 0s 5ms/step - loss: 0.1761 - accuracy: 0.9346 - val_loss: 0.2835 - val_accuracy: 0.9130\n",
      "Epoch 13/15\n",
      "14/14 [==============================] - 0s 6ms/step - loss: 0.1595 - accuracy: 0.9408 - val_loss: 0.3020 - val_accuracy: 0.9203\n",
      "Epoch 14/15\n",
      "14/14 [==============================] - 0s 5ms/step - loss: 0.1585 - accuracy: 0.9330 - val_loss: 0.3371 - val_accuracy: 0.8841\n",
      "Epoch 15/15\n",
      "14/14 [==============================] - 0s 5ms/step - loss: 0.1374 - accuracy: 0.9533 - val_loss: 0.3486 - val_accuracy: 0.8841\n",
      "Test Loss: 0.3468211889266968\n",
      "Test Accuracy: 0.9057971239089966\n",
      "5/5 [==============================] - 0s 2ms/step\n",
      "Model: \"sequential_25\"\n",
      "_________________________________________________________________\n",
      " Layer (type)                Output Shape              Param #   \n",
      "=================================================================\n",
      " simple_rnn_50 (SimpleRNN)   (None, 1, 93)             9765      \n",
      "                                                                 \n",
      " simple_rnn_51 (SimpleRNN)   (None, 93)                17391     \n",
      "                                                                 \n",
      " dense_25 (Dense)            (None, 1)                 94        \n",
      "                                                                 \n",
      "=================================================================\n",
      "Total params: 27,250\n",
      "Trainable params: 27,250\n",
      "Non-trainable params: 0\n",
      "_________________________________________________________________\n"
     ]
    }
   ],
   "source": [
    "# Train final model with best hyperparameters\n",
    "final_model = Sequential()\n",
    "for i in range(best_params['num_layers']):\n",
    "    if i == 0:\n",
    "        final_model.add(SimpleRNN(best_params['num_units'], activation='relu', input_shape=(X_train.shape[1], X_train.shape[2]), return_sequences=True))\n",
    "    elif i == best_params['num_layers'] - 1:\n",
    "        final_model.add(SimpleRNN(best_params['num_units'], activation='relu'))\n",
    "    else:\n",
    "        final_model.add(SimpleRNN(best_params['num_units'], activation='relu', return_sequences=True))\n",
    "\n",
    "final_model.add(Dense(1, activation='sigmoid'))  # 1 output neuron for binary classification\n",
    "\n",
    "final_model.compile(optimizer=tf.keras.optimizers.Adam(learning_rate=best_params['learning_rate']),\n",
    "                     loss='binary_crossentropy',\n",
    "                     metrics=['accuracy'])\n",
    "\n",
    "final_model.fit(X_train, y_train, epochs=15, batch_size=48, verbose=1, validation_data=(X_val, y_val))\n",
    "\n",
    "# Evaluate final model on test set\n",
    "test_loss, test_acc = final_model.evaluate(X_test, y_test, verbose=0)\n",
    "print(\"Test Loss:\", test_loss)\n",
    "print(\"Test Accuracy:\", test_acc)\n",
    "\n",
    "# Predict on test set\n",
    "y_pred_probs = final_model.predict(X_test)\n",
    "y_pred = np.round(y_pred_probs).astype(int)\n",
    "\n",
    "# Print model architecture\n",
    "final_model.summary()"
   ]
  },
  {
   "cell_type": "code",
   "execution_count": 9,
   "metadata": {},
   "outputs": [
    {
     "name": "stdout",
     "output_type": "stream",
     "text": [
      "Accuracy: 0.9057971014492754\n",
      "Precision: 0.926829268292683\n",
      "Recall: 0.9156626506024096\n",
      "F1 Score: 0.9212121212121213\n",
      "ROC AUC Score: 0.9454545454545454\n"
     ]
    }
   ],
   "source": [
    "# Calculate additional performance metrics\n",
    "precision = precision_score(y_test, y_pred, average='binary')\n",
    "recall = recall_score(y_test, y_pred, average='binary')\n",
    "accuracy= accuracy_score(y_test, y_pred)\n",
    "roc_auc = roc_auc_score(y_test, y_pred_probs)\n",
    "f1 = f1_score(y_test, y_pred, average='binary')\n",
    "print(\"Accuracy:\", accuracy)\n",
    "print(\"Precision:\", precision)\n",
    "print(\"Recall:\", recall)\n",
    "print(\"F1 Score:\", f1)\n",
    "print(\"ROC AUC Score:\", roc_auc)"
   ]
  },
  {
   "cell_type": "code",
   "execution_count": 10,
   "metadata": {},
   "outputs": [
    {
     "data": {
      "image/png": "[encoded data removed]",
      "text/plain": [
       "<Figure size 800x600 with 2 Axes>"
      ]
     },
     "metadata": {},
     "output_type": "display_data"
    }
   ],
   "source": [
    "# Plot the confusion matrix using seaborn for better visualization\n",
    "conf_matrix = confusion_matrix(y_test, y_pred)\n",
    "plt.figure(figsize=(8, 6))\n",
    "sns.heatmap(conf_matrix/np.sum(conf_matrix), annot=True, fmt='.2%', cmap='Blues', xticklabels=['No Disease', 'Disease'], yticklabels=['No Disease', 'Disease'])\n",
    "plt.xlabel('Predicted')\n",
    "plt.ylabel('True')\n",
    "plt.title('Confusion Matrix')\n",
    "plt.show()\n"
   ]
  },
  {
   "cell_type": "code",
   "execution_count": 11,
   "metadata": {},
   "outputs": [
    {
     "name": "stdout",
     "output_type": "stream",
     "text": [
      "              precision    recall  f1-score   support\n",
      "\n",
      "           0       0.88      0.89      0.88        55\n",
      "           1       0.93      0.92      0.92        83\n",
      "\n",
      "    accuracy                           0.91       138\n",
      "   macro avg       0.90      0.90      0.90       138\n",
      "weighted avg       0.91      0.91      0.91       138\n",
      "\n"
     ]
    }
   ],
   "source": [
    "print(classification_report(y_test, y_pred))"
   ]
  },
  {
   "cell_type": "markdown",
   "metadata": {},
   "source": [
    "## Saving the Model"
   ]
  },
  {
   "cell_type": "code",
   "execution_count": 12,
   "metadata": {},
   "outputs": [],
   "source": [
    "'''# Save the model\n",
    "final_model.save('./models/SimpleRNN.h5')'''\n"
   ]
  }
 ],
 "metadata": {
  "kernelspec": {
   "display_name": "Python 3",
   "language": "python",
   "name": "python3"
  },
  "language_info": {
   "codemirror_mode": {
    "name": "ipython",
    "version": 3
   },
   "file_extension": ".py",
   "mimetype": "text/x-python",
   "name": "python",
   "nbconvert_exporter": "python",
   "pygments_lexer": "ipython3",
   "version": "3.11.4"
  }
 },
 "nbformat": 4,
 "nbformat_minor": 2
}
